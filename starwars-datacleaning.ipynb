{
  "nbformat": 4,
  "nbformat_minor": 0,
  "metadata": {
    "colab": {
      "provenance": [],
      "include_colab_link": true
    },
    "kernelspec": {
      "name": "ir",
      "display_name": "R"
    }
  },
  "cells": [
    {
      "cell_type": "markdown",
      "metadata": {
        "id": "view-in-github",
        "colab_type": "text"
      },
      "source": [
        "<a href=\"https://colab.research.google.com/github/farnoosh27/Statistical_Analysis_usingR/blob/main/DataCleaning.ipynb\" target=\"_parent\"><img src=\"https://colab.research.google.com/assets/colab-badge.svg\" alt=\"Open In Colab\"/></a>"
      ]
    },
    {
      "cell_type": "markdown",
      "metadata": {
        "id": "AtxyCnlCcAi1"
      },
      "source": [
        "# **Using native R on Google Colab**\n",
        "Farnoosh Azour\n",
        "\n",
        "By the help of Dr.Chanin Nantasenamat, I am running R code in colab environment. \n",
        "\n",
        "<i>Data Professor YouTube channel, http://youtube.com/dataprofessor </i>\n",
        " \n",
        " Here is a short tutorial on how to do data cleaning using R. \n",
        "Hope you enjoy it!\n",
        "\n",
        "[Use R on Google Colab!](https://colab.research.google.com/notebook#create=true&language=r)\n",
        "\n",
        "I am following a tutorial by [Greg Martin](https://www.youtube.com/watch?v=sV5lwAJ7vnQ) "
      ]
    },
    {
      "cell_type": "markdown",
      "metadata": {
        "id": "1M8Wrd50Zyfr"
      },
      "source": [
        "## Installing libraries"
      ]
    },
    {
      "cell_type": "code",
      "source": [
        "install.packages(\"tidyverse\")"
      ],
      "metadata": {
        "colab": {
          "base_uri": "https://localhost:8080/"
        },
        "id": "aIpR32M394VT",
        "outputId": "2f0550ec-766a-4978-decd-9eda3b4fd96f"
      },
      "execution_count": null,
      "outputs": [
        {
          "output_type": "stream",
          "name": "stderr",
          "text": [
            "Installing package into ‘/usr/local/lib/R/site-library’\n",
            "(as ‘lib’ is unspecified)\n",
            "\n",
            "also installing the dependencies ‘textshaping’, ‘ragg’\n",
            "\n",
            "\n",
            "Warning message in install.packages(\"tidyverse\"):\n",
            "“installation of package ‘textshaping’ had non-zero exit status”\n",
            "Warning message in install.packages(\"tidyverse\"):\n",
            "“installation of package ‘ragg’ had non-zero exit status”\n",
            "Warning message in install.packages(\"tidyverse\"):\n",
            "“installation of package ‘tidyverse’ had non-zero exit status”\n"
          ]
        }
      ]
    },
    {
      "cell_type": "code",
      "source": [
        "install.packages(\"dplyr\")"
      ],
      "metadata": {
        "colab": {
          "base_uri": "https://localhost:8080/"
        },
        "id": "2_Rp2mg614bX",
        "outputId": "64303d51-eaeb-46aa-cfdb-5b7039cf31e7"
      },
      "execution_count": null,
      "outputs": [
        {
          "output_type": "stream",
          "name": "stderr",
          "text": [
            "Installing package into ‘/usr/local/lib/R/site-library’\n",
            "(as ‘lib’ is unspecified)\n",
            "\n"
          ]
        }
      ]
    },
    {
      "cell_type": "code",
      "source": [
        "install.packages(\"janitor\")\n",
        "library(janitor)\n"
      ],
      "metadata": {
        "colab": {
          "base_uri": "https://localhost:8080/"
        },
        "id": "EpJ5lMox2RgB",
        "outputId": "125da169-d217-4db1-c1ab-e39643269bac"
      },
      "execution_count": null,
      "outputs": [
        {
          "output_type": "stream",
          "name": "stderr",
          "text": [
            "Installing package into ‘/usr/local/lib/R/site-library’\n",
            "(as ‘lib’ is unspecified)\n",
            "\n",
            "Warning message in system(\"timedatectl\", intern = TRUE):\n",
            "“running command 'timedatectl' had status 1”\n",
            "\n",
            "Attaching package: ‘janitor’\n",
            "\n",
            "\n",
            "The following objects are masked from ‘package:stats’:\n",
            "\n",
            "    chisq.test, fisher.test\n",
            "\n",
            "\n"
          ]
        }
      ]
    },
    {
      "cell_type": "code",
      "source": [
        "library(tidyverse)\n",
        "library(dplyr)\n",
        "library(janitor)\n",
        "view(starwars)\n",
        "# variable types\n",
        "glimpse(starwars)\n",
        "class(starwars$gender)\n",
        "unique(starwars$gender)"
      ],
      "metadata": {
        "colab": {
          "base_uri": "https://localhost:8080/",
          "height": 520
        },
        "id": "56_wR0uG9_nr",
        "outputId": "48139ad0-8970-4ac9-8927-b391990ac5fd"
      },
      "execution_count": null,
      "outputs": [
        {
          "output_type": "stream",
          "name": "stderr",
          "text": [
            "── \u001b[1mAttaching packages\u001b[22m ─────────────────────────────────────── tidyverse 1.3.1 ──\n",
            "\n",
            "\u001b[32m✔\u001b[39m \u001b[34mggplot2\u001b[39m 3.4.1     \u001b[32m✔\u001b[39m \u001b[34mpurrr  \u001b[39m 1.0.1\n",
            "\u001b[32m✔\u001b[39m \u001b[34mtibble \u001b[39m 3.2.1     \u001b[32m✔\u001b[39m \u001b[34mdplyr  \u001b[39m 1.1.1\n",
            "\u001b[32m✔\u001b[39m \u001b[34mtidyr  \u001b[39m 1.3.0     \u001b[32m✔\u001b[39m \u001b[34mstringr\u001b[39m 1.5.0\n",
            "\u001b[32m✔\u001b[39m \u001b[34mreadr  \u001b[39m 2.1.4     \u001b[32m✔\u001b[39m \u001b[34mforcats\u001b[39m 1.0.0\n",
            "\n",
            "── \u001b[1mConflicts\u001b[22m ────────────────────────────────────────── tidyverse_conflicts() ──\n",
            "\u001b[31m✖\u001b[39m \u001b[34mdplyr\u001b[39m::\u001b[32mfilter()\u001b[39m masks \u001b[34mstats\u001b[39m::filter()\n",
            "\u001b[31m✖\u001b[39m \u001b[34mdplyr\u001b[39m::\u001b[32mlag()\u001b[39m    masks \u001b[34mstats\u001b[39m::lag()\n",
            "\n"
          ]
        },
        {
          "output_type": "stream",
          "name": "stdout",
          "text": [
            "Rows: 87\n",
            "Columns: 14\n",
            "$ name       \u001b[3m\u001b[90m<chr>\u001b[39m\u001b[23m \"Luke Skywalker\", \"C-3PO\", \"R2-D2\", \"Darth Vader\", \"Leia Or…\n",
            "$ height     \u001b[3m\u001b[90m<int>\u001b[39m\u001b[23m 172, 167, 96, 202, 150, 178, 165, 97, 183, 182, 188, 180, 2…\n",
            "$ mass       \u001b[3m\u001b[90m<dbl>\u001b[39m\u001b[23m 77.0, 75.0, 32.0, 136.0, 49.0, 120.0, 75.0, 32.0, 84.0, 77.…\n",
            "$ hair_color \u001b[3m\u001b[90m<chr>\u001b[39m\u001b[23m \"blond\", NA, NA, \"none\", \"brown\", \"brown, grey\", \"brown\", N…\n",
            "$ skin_color \u001b[3m\u001b[90m<chr>\u001b[39m\u001b[23m \"fair\", \"gold\", \"white, blue\", \"white\", \"light\", \"light\", \"…\n",
            "$ eye_color  \u001b[3m\u001b[90m<chr>\u001b[39m\u001b[23m \"blue\", \"yellow\", \"red\", \"yellow\", \"brown\", \"blue\", \"blue\",…\n",
            "$ birth_year \u001b[3m\u001b[90m<dbl>\u001b[39m\u001b[23m 19.0, 112.0, 33.0, 41.9, 19.0, 52.0, 47.0, NA, 24.0, 57.0, …\n",
            "$ sex        \u001b[3m\u001b[90m<chr>\u001b[39m\u001b[23m \"male\", \"none\", \"none\", \"male\", \"female\", \"male\", \"female\",…\n",
            "$ gender     \u001b[3m\u001b[90m<chr>\u001b[39m\u001b[23m \"masculine\", \"masculine\", \"masculine\", \"masculine\", \"femini…\n",
            "$ homeworld  \u001b[3m\u001b[90m<chr>\u001b[39m\u001b[23m \"Tatooine\", \"Tatooine\", \"Naboo\", \"Tatooine\", \"Alderaan\", \"T…\n",
            "$ species    \u001b[3m\u001b[90m<chr>\u001b[39m\u001b[23m \"Human\", \"Droid\", \"Droid\", \"Human\", \"Human\", \"Human\", \"Huma…\n",
            "$ films      \u001b[3m\u001b[90m<list>\u001b[39m\u001b[23m <\"The Empire Strikes Back\", \"Revenge of the Sith\", \"Return…\n",
            "$ vehicles   \u001b[3m\u001b[90m<list>\u001b[39m\u001b[23m <\"Snowspeeder\", \"Imperial Speeder Bike\">, <>, <>, <>, \"Imp…\n",
            "$ starships  \u001b[3m\u001b[90m<list>\u001b[39m\u001b[23m <\"X-wing\", \"Imperial shuttle\">, <>, <>, \"TIE Advanced x1\",…\n"
          ]
        },
        {
          "output_type": "display_data",
          "data": {
            "text/html": [
              "'character'"
            ],
            "text/markdown": "'character'",
            "text/latex": "'character'",
            "text/plain": [
              "[1] \"character\""
            ]
          },
          "metadata": {}
        },
        {
          "output_type": "display_data",
          "data": {
            "text/html": [
              "<style>\n",
              ".list-inline {list-style: none; margin:0; padding: 0}\n",
              ".list-inline>li {display: inline-block}\n",
              ".list-inline>li:not(:last-child)::after {content: \"\\00b7\"; padding: 0 .5ex}\n",
              "</style>\n",
              "<ol class=list-inline><li>'masculine'</li><li>'feminine'</li><li>NA</li></ol>\n"
            ],
            "text/markdown": "1. 'masculine'\n2. 'feminine'\n3. NA\n\n\n",
            "text/latex": "\\begin{enumerate*}\n\\item 'masculine'\n\\item 'feminine'\n\\item NA\n\\end{enumerate*}\n",
            "text/plain": [
              "[1] \"masculine\" \"feminine\"  NA         "
            ]
          },
          "metadata": {}
        }
      ]
    },
    {
      "cell_type": "markdown",
      "source": [
        "In R, as.factor is a function used to convert a vector or a column in a data frame to a factor variable. \n",
        "\n",
        "A **factor** is a categorical variable that can take a limited set of values, which are referred to as level"
      ],
      "metadata": {
        "id": "9S1uhpY8haTK"
      }
    },
    {
      "cell_type": "code",
      "source": [
        "starwars$gender <- as.factor(starwars$gender)\n",
        "class(starwars$gender)"
      ],
      "metadata": {
        "id": "Q2Y-JIqT1Jqg",
        "colab": {
          "base_uri": "https://localhost:8080/",
          "height": 34
        },
        "outputId": "84586abd-04ad-4dd1-f44e-464ff62f22e4"
      },
      "execution_count": null,
      "outputs": [
        {
          "output_type": "display_data",
          "data": {
            "text/html": [
              "'factor'"
            ],
            "text/markdown": "'factor'",
            "text/latex": "'factor'",
            "text/plain": [
              "[1] \"factor\""
            ]
          },
          "metadata": {}
        }
      ]
    },
    {
      "cell_type": "code",
      "source": [
        "levels(starwars$gender)"
      ],
      "metadata": {
        "colab": {
          "base_uri": "https://localhost:8080/",
          "height": 34
        },
        "id": "EfUel8Dzhniu",
        "outputId": "e650c7e6-1e5c-4253-ac2e-7389ab19c757"
      },
      "execution_count": null,
      "outputs": [
        {
          "output_type": "display_data",
          "data": {
            "text/html": [
              "<style>\n",
              ".list-inline {list-style: none; margin:0; padding: 0}\n",
              ".list-inline>li {display: inline-block}\n",
              ".list-inline>li:not(:last-child)::after {content: \"\\00b7\"; padding: 0 .5ex}\n",
              "</style>\n",
              "<ol class=list-inline><li>'feminine'</li><li>'masculine'</li></ol>\n"
            ],
            "text/markdown": "1. 'feminine'\n2. 'masculine'\n\n\n",
            "text/latex": "\\begin{enumerate*}\n\\item 'feminine'\n\\item 'masculine'\n\\end{enumerate*}\n",
            "text/plain": [
              "[1] \"feminine\"  \"masculine\""
            ]
          },
          "metadata": {}
        }
      ]
    },
    {
      "cell_type": "code",
      "source": [
        "## let's say we want this the other way around\n",
        "starwars$gender <- factor((starwars$gender), levels = c('masculine','feminine'))"
      ],
      "metadata": {
        "id": "bc9KTnh_iChE"
      },
      "execution_count": null,
      "outputs": []
    },
    {
      "cell_type": "code",
      "source": [
        "levels(starwars$gender)"
      ],
      "metadata": {
        "colab": {
          "base_uri": "https://localhost:8080/",
          "height": 34
        },
        "id": "Hpi3fwYriiHW",
        "outputId": "c55dbbf5-2638-4cee-828b-9c8912df519e"
      },
      "execution_count": null,
      "outputs": [
        {
          "output_type": "display_data",
          "data": {
            "text/html": [
              "<style>\n",
              ".list-inline {list-style: none; margin:0; padding: 0}\n",
              ".list-inline>li {display: inline-block}\n",
              ".list-inline>li:not(:last-child)::after {content: \"\\00b7\"; padding: 0 .5ex}\n",
              "</style>\n",
              "<ol class=list-inline><li>'masculine'</li><li>'feminine'</li></ol>\n"
            ],
            "text/markdown": "1. 'masculine'\n2. 'feminine'\n\n\n",
            "text/latex": "\\begin{enumerate*}\n\\item 'masculine'\n\\item 'feminine'\n\\end{enumerate*}\n",
            "text/plain": [
              "[1] \"masculine\" \"feminine\" "
            ]
          },
          "metadata": {}
        }
      ]
    },
    {
      "cell_type": "markdown",
      "source": [
        "## selecting variables\n"
      ],
      "metadata": {
        "id": "sbdO0_L7imtN"
      }
    },
    {
      "cell_type": "code",
      "source": [
        "names(starwars)"
      ],
      "metadata": {
        "colab": {
          "base_uri": "https://localhost:8080/",
          "height": 52
        },
        "id": "9ue8HYSWiqES",
        "outputId": "a159a504-0184-40ce-8d29-3378d382bcbd"
      },
      "execution_count": null,
      "outputs": [
        {
          "output_type": "display_data",
          "data": {
            "text/html": [
              "<style>\n",
              ".list-inline {list-style: none; margin:0; padding: 0}\n",
              ".list-inline>li {display: inline-block}\n",
              ".list-inline>li:not(:last-child)::after {content: \"\\00b7\"; padding: 0 .5ex}\n",
              "</style>\n",
              "<ol class=list-inline><li>'name'</li><li>'height'</li><li>'mass'</li><li>'hair_color'</li><li>'skin_color'</li><li>'eye_color'</li><li>'birth_year'</li><li>'sex'</li><li>'gender'</li><li>'homeworld'</li><li>'species'</li><li>'films'</li><li>'vehicles'</li><li>'starships'</li></ol>\n"
            ],
            "text/markdown": "1. 'name'\n2. 'height'\n3. 'mass'\n4. 'hair_color'\n5. 'skin_color'\n6. 'eye_color'\n7. 'birth_year'\n8. 'sex'\n9. 'gender'\n10. 'homeworld'\n11. 'species'\n12. 'films'\n13. 'vehicles'\n14. 'starships'\n\n\n",
            "text/latex": "\\begin{enumerate*}\n\\item 'name'\n\\item 'height'\n\\item 'mass'\n\\item 'hair\\_color'\n\\item 'skin\\_color'\n\\item 'eye\\_color'\n\\item 'birth\\_year'\n\\item 'sex'\n\\item 'gender'\n\\item 'homeworld'\n\\item 'species'\n\\item 'films'\n\\item 'vehicles'\n\\item 'starships'\n\\end{enumerate*}\n",
            "text/plain": [
              " [1] \"name\"       \"height\"     \"mass\"       \"hair_color\" \"skin_color\"\n",
              " [6] \"eye_color\"  \"birth_year\" \"sex\"        \"gender\"     \"homeworld\" \n",
              "[11] \"species\"    \"films\"      \"vehicles\"   \"starships\" "
            ]
          },
          "metadata": {}
        }
      ]
    },
    {
      "cell_type": "code",
      "source": [
        "# pipe operator\n",
        "starwars %>%\n",
        "  select(name, height, ends_with(\"color\")) %>%\n",
        "  names()"
      ],
      "metadata": {
        "colab": {
          "base_uri": "https://localhost:8080/",
          "height": 34
        },
        "id": "bl-WQrGKjWk7",
        "outputId": "569db7ad-d47f-4890-bbb4-1b331af95682"
      },
      "execution_count": null,
      "outputs": [
        {
          "output_type": "display_data",
          "data": {
            "text/html": [
              "<style>\n",
              ".list-inline {list-style: none; margin:0; padding: 0}\n",
              ".list-inline>li {display: inline-block}\n",
              ".list-inline>li:not(:last-child)::after {content: \"\\00b7\"; padding: 0 .5ex}\n",
              "</style>\n",
              "<ol class=list-inline><li>'name'</li><li>'height'</li><li>'hair_color'</li><li>'skin_color'</li><li>'eye_color'</li></ol>\n"
            ],
            "text/markdown": "1. 'name'\n2. 'height'\n3. 'hair_color'\n4. 'skin_color'\n5. 'eye_color'\n\n\n",
            "text/latex": "\\begin{enumerate*}\n\\item 'name'\n\\item 'height'\n\\item 'hair\\_color'\n\\item 'skin\\_color'\n\\item 'eye\\_color'\n\\end{enumerate*}\n",
            "text/plain": [
              "[1] \"name\"       \"height\"     \"hair_color\" \"skin_color\" \"eye_color\" "
            ]
          },
          "metadata": {}
        }
      ]
    },
    {
      "cell_type": "code",
      "source": [
        "# pipe operator\n",
        "starwars %>%\n",
        "  select(name, height, ends_with(\"color\")) %>%\n",
        "  filter(hair_color %in% c(\"blond\",\"brown\") &\n",
        "    height < 180)"
      ],
      "metadata": {
        "colab": {
          "base_uri": "https://localhost:8080/",
          "height": 380
        },
        "id": "CWXNgMDYjrZt",
        "outputId": "c87cf033-a75f-46bd-c9df-87953c02faab"
      },
      "execution_count": null,
      "outputs": [
        {
          "output_type": "display_data",
          "data": {
            "text/html": [
              "<table class=\"dataframe\">\n",
              "<caption>A tibble: 9 × 5</caption>\n",
              "<thead>\n",
              "\t<tr><th scope=col>name</th><th scope=col>height</th><th scope=col>hair_color</th><th scope=col>skin_color</th><th scope=col>eye_color</th></tr>\n",
              "\t<tr><th scope=col>&lt;chr&gt;</th><th scope=col>&lt;int&gt;</th><th scope=col>&lt;chr&gt;</th><th scope=col>&lt;chr&gt;</th><th scope=col>&lt;chr&gt;</th></tr>\n",
              "</thead>\n",
              "<tbody>\n",
              "\t<tr><td>Luke Skywalker       </td><td>172</td><td>blond</td><td>fair </td><td>blue </td></tr>\n",
              "\t<tr><td>Leia Organa          </td><td>150</td><td>brown</td><td>light</td><td>brown</td></tr>\n",
              "\t<tr><td>Beru Whitesun lars   </td><td>165</td><td>brown</td><td>light</td><td>blue </td></tr>\n",
              "\t<tr><td>Wedge Antilles       </td><td>170</td><td>brown</td><td>fair </td><td>hazel</td></tr>\n",
              "\t<tr><td>Wicket Systri Warrick</td><td> 88</td><td>brown</td><td>brown</td><td>brown</td></tr>\n",
              "\t<tr><td>Finis Valorum        </td><td>170</td><td>blond</td><td>fair </td><td>blue </td></tr>\n",
              "\t<tr><td>Cordé                </td><td>157</td><td>brown</td><td>light</td><td>brown</td></tr>\n",
              "\t<tr><td>Dormé                </td><td>165</td><td>brown</td><td>light</td><td>brown</td></tr>\n",
              "\t<tr><td>Padmé Amidala        </td><td>165</td><td>brown</td><td>light</td><td>brown</td></tr>\n",
              "</tbody>\n",
              "</table>\n"
            ],
            "text/markdown": "\nA tibble: 9 × 5\n\n| name &lt;chr&gt; | height &lt;int&gt; | hair_color &lt;chr&gt; | skin_color &lt;chr&gt; | eye_color &lt;chr&gt; |\n|---|---|---|---|---|\n| Luke Skywalker        | 172 | blond | fair  | blue  |\n| Leia Organa           | 150 | brown | light | brown |\n| Beru Whitesun lars    | 165 | brown | light | blue  |\n| Wedge Antilles        | 170 | brown | fair  | hazel |\n| Wicket Systri Warrick |  88 | brown | brown | brown |\n| Finis Valorum         | 170 | blond | fair  | blue  |\n| Cordé                 | 157 | brown | light | brown |\n| Dormé                 | 165 | brown | light | brown |\n| Padmé Amidala         | 165 | brown | light | brown |\n\n",
            "text/latex": "A tibble: 9 × 5\n\\begin{tabular}{lllll}\n name & height & hair\\_color & skin\\_color & eye\\_color\\\\\n <chr> & <int> & <chr> & <chr> & <chr>\\\\\n\\hline\n\t Luke Skywalker        & 172 & blond & fair  & blue \\\\\n\t Leia Organa           & 150 & brown & light & brown\\\\\n\t Beru Whitesun lars    & 165 & brown & light & blue \\\\\n\t Wedge Antilles        & 170 & brown & fair  & hazel\\\\\n\t Wicket Systri Warrick &  88 & brown & brown & brown\\\\\n\t Finis Valorum         & 170 & blond & fair  & blue \\\\\n\t Cordé                 & 157 & brown & light & brown\\\\\n\t Dormé                 & 165 & brown & light & brown\\\\\n\t Padmé Amidala         & 165 & brown & light & brown\\\\\n\\end{tabular}\n",
            "text/plain": [
              "  name                  height hair_color skin_color eye_color\n",
              "1 Luke Skywalker        172    blond      fair       blue     \n",
              "2 Leia Organa           150    brown      light      brown    \n",
              "3 Beru Whitesun lars    165    brown      light      blue     \n",
              "4 Wedge Antilles        170    brown      fair       hazel    \n",
              "5 Wicket Systri Warrick  88    brown      brown      brown    \n",
              "6 Finis Valorum         170    blond      fair       blue     \n",
              "7 Cordé                 157    brown      light      brown    \n",
              "8 Dormé                 165    brown      light      brown    \n",
              "9 Padmé Amidala         165    brown      light      brown    "
            ]
          },
          "metadata": {}
        }
      ]
    },
    {
      "cell_type": "code",
      "source": [
        "# missing data\n",
        "mean(starwars$height)\n",
        "# it does not work because there are missing values"
      ],
      "metadata": {
        "colab": {
          "base_uri": "https://localhost:8080/",
          "height": 34
        },
        "id": "oJm9YqmjkxJY",
        "outputId": "59985c95-b0f0-4446-841b-b5a7ccf6e11c"
      },
      "execution_count": null,
      "outputs": [
        {
          "output_type": "display_data",
          "data": {
            "text/html": [
              "&lt;NA&gt;"
            ],
            "text/markdown": "&lt;NA&gt;",
            "text/latex": "<NA>",
            "text/plain": [
              "[1] NA"
            ]
          },
          "metadata": {}
        }
      ]
    },
    {
      "cell_type": "code",
      "source": [
        "# missing data\n",
        "mean(starwars$height, na.rm = TRUE)\n",
        "# it works because it removes the null variables"
      ],
      "metadata": {
        "colab": {
          "base_uri": "https://localhost:8080/",
          "height": 34
        },
        "id": "_g2Wxzt0lmQs",
        "outputId": "b6a208a8-5a49-40a9-ab54-f73f9cc493d9"
      },
      "execution_count": null,
      "outputs": [
        {
          "output_type": "display_data",
          "data": {
            "text/html": [
              "174.358024691358"
            ],
            "text/markdown": "174.358024691358",
            "text/latex": "174.358024691358",
            "text/plain": [
              "[1] 174.358"
            ]
          },
          "metadata": {}
        }
      ]
    },
    {
      "cell_type": "code",
      "source": [
        "# missing data\n",
        "starwars %>%\n",
        "  select(name, gender, hair_color, height)%>%\n",
        "# one way could be to remove all the missing variables, but that's not necessarily recommended\n",
        "na.omit()"
      ],
      "metadata": {
        "colab": {
          "base_uri": "https://localhost:8080/",
          "height": 1000
        },
        "id": "Z60WdAFEmv8O",
        "outputId": "d58b5b85-f64a-4b61-aea3-b59dd75d34f4"
      },
      "execution_count": null,
      "outputs": [
        {
          "output_type": "display_data",
          "data": {
            "text/html": [
              "<table class=\"dataframe\">\n",
              "<caption>A tibble: 73 × 4</caption>\n",
              "<thead>\n",
              "\t<tr><th scope=col>name</th><th scope=col>gender</th><th scope=col>hair_color</th><th scope=col>height</th></tr>\n",
              "\t<tr><th scope=col>&lt;chr&gt;</th><th scope=col>&lt;fct&gt;</th><th scope=col>&lt;chr&gt;</th><th scope=col>&lt;int&gt;</th></tr>\n",
              "</thead>\n",
              "<tbody>\n",
              "\t<tr><td>Luke Skywalker       </td><td>masculine</td><td>blond        </td><td>172</td></tr>\n",
              "\t<tr><td>Darth Vader          </td><td>masculine</td><td>none         </td><td>202</td></tr>\n",
              "\t<tr><td>Leia Organa          </td><td>feminine </td><td>brown        </td><td>150</td></tr>\n",
              "\t<tr><td>Owen Lars            </td><td>masculine</td><td>brown, grey  </td><td>178</td></tr>\n",
              "\t<tr><td>Beru Whitesun lars   </td><td>feminine </td><td>brown        </td><td>165</td></tr>\n",
              "\t<tr><td>Biggs Darklighter    </td><td>masculine</td><td>black        </td><td>183</td></tr>\n",
              "\t<tr><td>Obi-Wan Kenobi       </td><td>masculine</td><td>auburn, white</td><td>182</td></tr>\n",
              "\t<tr><td>Anakin Skywalker     </td><td>masculine</td><td>blond        </td><td>188</td></tr>\n",
              "\t<tr><td>Wilhuff Tarkin       </td><td>masculine</td><td>auburn, grey </td><td>180</td></tr>\n",
              "\t<tr><td>Chewbacca            </td><td>masculine</td><td>brown        </td><td>228</td></tr>\n",
              "\t<tr><td>Han Solo             </td><td>masculine</td><td>brown        </td><td>180</td></tr>\n",
              "\t<tr><td>Wedge Antilles       </td><td>masculine</td><td>brown        </td><td>170</td></tr>\n",
              "\t<tr><td>Jek Tono Porkins     </td><td>masculine</td><td>brown        </td><td>180</td></tr>\n",
              "\t<tr><td>Yoda                 </td><td>masculine</td><td>white        </td><td> 66</td></tr>\n",
              "\t<tr><td>Palpatine            </td><td>masculine</td><td>grey         </td><td>170</td></tr>\n",
              "\t<tr><td>Boba Fett            </td><td>masculine</td><td>black        </td><td>183</td></tr>\n",
              "\t<tr><td>IG-88                </td><td>masculine</td><td>none         </td><td>200</td></tr>\n",
              "\t<tr><td>Bossk                </td><td>masculine</td><td>none         </td><td>190</td></tr>\n",
              "\t<tr><td>Lando Calrissian     </td><td>masculine</td><td>black        </td><td>177</td></tr>\n",
              "\t<tr><td>Lobot                </td><td>masculine</td><td>none         </td><td>175</td></tr>\n",
              "\t<tr><td>Ackbar               </td><td>masculine</td><td>none         </td><td>180</td></tr>\n",
              "\t<tr><td>Mon Mothma           </td><td>feminine </td><td>auburn       </td><td>150</td></tr>\n",
              "\t<tr><td>Wicket Systri Warrick</td><td>masculine</td><td>brown        </td><td> 88</td></tr>\n",
              "\t<tr><td>Nien Nunb            </td><td>masculine</td><td>none         </td><td>160</td></tr>\n",
              "\t<tr><td>Qui-Gon Jinn         </td><td>masculine</td><td>brown        </td><td>193</td></tr>\n",
              "\t<tr><td>Nute Gunray          </td><td>masculine</td><td>none         </td><td>191</td></tr>\n",
              "\t<tr><td>Finis Valorum        </td><td>masculine</td><td>blond        </td><td>170</td></tr>\n",
              "\t<tr><td>Jar Jar Binks        </td><td>masculine</td><td>none         </td><td>196</td></tr>\n",
              "\t<tr><td>Roos Tarpals         </td><td>masculine</td><td>none         </td><td>224</td></tr>\n",
              "\t<tr><td>Rugor Nass           </td><td>masculine</td><td>none         </td><td>206</td></tr>\n",
              "\t<tr><td>⋮</td><td>⋮</td><td>⋮</td><td>⋮</td></tr>\n",
              "\t<tr><td>Adi Gallia         </td><td>feminine </td><td>none  </td><td>184</td></tr>\n",
              "\t<tr><td>Saesee Tiin        </td><td>masculine</td><td>none  </td><td>188</td></tr>\n",
              "\t<tr><td>Yarael Poof        </td><td>masculine</td><td>none  </td><td>264</td></tr>\n",
              "\t<tr><td>Plo Koon           </td><td>masculine</td><td>none  </td><td>188</td></tr>\n",
              "\t<tr><td>Mas Amedda         </td><td>masculine</td><td>none  </td><td>196</td></tr>\n",
              "\t<tr><td>Gregar Typho       </td><td>masculine</td><td>black </td><td>185</td></tr>\n",
              "\t<tr><td>Cordé              </td><td>feminine </td><td>brown </td><td>157</td></tr>\n",
              "\t<tr><td>Cliegg Lars        </td><td>masculine</td><td>brown </td><td>183</td></tr>\n",
              "\t<tr><td>Poggle the Lesser  </td><td>masculine</td><td>none  </td><td>183</td></tr>\n",
              "\t<tr><td>Luminara Unduli    </td><td>feminine </td><td>black </td><td>170</td></tr>\n",
              "\t<tr><td>Barriss Offee      </td><td>feminine </td><td>black </td><td>166</td></tr>\n",
              "\t<tr><td>Dormé              </td><td>feminine </td><td>brown </td><td>165</td></tr>\n",
              "\t<tr><td>Dooku              </td><td>masculine</td><td>white </td><td>193</td></tr>\n",
              "\t<tr><td>Bail Prestor Organa</td><td>masculine</td><td>black </td><td>191</td></tr>\n",
              "\t<tr><td>Jango Fett         </td><td>masculine</td><td>black </td><td>183</td></tr>\n",
              "\t<tr><td>Zam Wesell         </td><td>feminine </td><td>blonde</td><td>168</td></tr>\n",
              "\t<tr><td>Dexter Jettster    </td><td>masculine</td><td>none  </td><td>198</td></tr>\n",
              "\t<tr><td>Lama Su            </td><td>masculine</td><td>none  </td><td>229</td></tr>\n",
              "\t<tr><td>Taun We            </td><td>feminine </td><td>none  </td><td>213</td></tr>\n",
              "\t<tr><td>Jocasta Nu         </td><td>feminine </td><td>white </td><td>167</td></tr>\n",
              "\t<tr><td>Ratts Tyerell      </td><td>masculine</td><td>none  </td><td> 79</td></tr>\n",
              "\t<tr><td>R4-P17             </td><td>feminine </td><td>none  </td><td> 96</td></tr>\n",
              "\t<tr><td>Wat Tambor         </td><td>masculine</td><td>none  </td><td>193</td></tr>\n",
              "\t<tr><td>San Hill           </td><td>masculine</td><td>none  </td><td>191</td></tr>\n",
              "\t<tr><td>Shaak Ti           </td><td>feminine </td><td>none  </td><td>178</td></tr>\n",
              "\t<tr><td>Grievous           </td><td>masculine</td><td>none  </td><td>216</td></tr>\n",
              "\t<tr><td>Tarfful            </td><td>masculine</td><td>brown </td><td>234</td></tr>\n",
              "\t<tr><td>Raymus Antilles    </td><td>masculine</td><td>brown </td><td>188</td></tr>\n",
              "\t<tr><td>Tion Medon         </td><td>masculine</td><td>none  </td><td>206</td></tr>\n",
              "\t<tr><td>Padmé Amidala      </td><td>feminine </td><td>brown </td><td>165</td></tr>\n",
              "</tbody>\n",
              "</table>\n"
            ],
            "text/markdown": "\nA tibble: 73 × 4\n\n| name &lt;chr&gt; | gender &lt;fct&gt; | hair_color &lt;chr&gt; | height &lt;int&gt; |\n|---|---|---|---|\n| Luke Skywalker        | masculine | blond         | 172 |\n| Darth Vader           | masculine | none          | 202 |\n| Leia Organa           | feminine  | brown         | 150 |\n| Owen Lars             | masculine | brown, grey   | 178 |\n| Beru Whitesun lars    | feminine  | brown         | 165 |\n| Biggs Darklighter     | masculine | black         | 183 |\n| Obi-Wan Kenobi        | masculine | auburn, white | 182 |\n| Anakin Skywalker      | masculine | blond         | 188 |\n| Wilhuff Tarkin        | masculine | auburn, grey  | 180 |\n| Chewbacca             | masculine | brown         | 228 |\n| Han Solo              | masculine | brown         | 180 |\n| Wedge Antilles        | masculine | brown         | 170 |\n| Jek Tono Porkins      | masculine | brown         | 180 |\n| Yoda                  | masculine | white         |  66 |\n| Palpatine             | masculine | grey          | 170 |\n| Boba Fett             | masculine | black         | 183 |\n| IG-88                 | masculine | none          | 200 |\n| Bossk                 | masculine | none          | 190 |\n| Lando Calrissian      | masculine | black         | 177 |\n| Lobot                 | masculine | none          | 175 |\n| Ackbar                | masculine | none          | 180 |\n| Mon Mothma            | feminine  | auburn        | 150 |\n| Wicket Systri Warrick | masculine | brown         |  88 |\n| Nien Nunb             | masculine | none          | 160 |\n| Qui-Gon Jinn          | masculine | brown         | 193 |\n| Nute Gunray           | masculine | none          | 191 |\n| Finis Valorum         | masculine | blond         | 170 |\n| Jar Jar Binks         | masculine | none          | 196 |\n| Roos Tarpals          | masculine | none          | 224 |\n| Rugor Nass            | masculine | none          | 206 |\n| ⋮ | ⋮ | ⋮ | ⋮ |\n| Adi Gallia          | feminine  | none   | 184 |\n| Saesee Tiin         | masculine | none   | 188 |\n| Yarael Poof         | masculine | none   | 264 |\n| Plo Koon            | masculine | none   | 188 |\n| Mas Amedda          | masculine | none   | 196 |\n| Gregar Typho        | masculine | black  | 185 |\n| Cordé               | feminine  | brown  | 157 |\n| Cliegg Lars         | masculine | brown  | 183 |\n| Poggle the Lesser   | masculine | none   | 183 |\n| Luminara Unduli     | feminine  | black  | 170 |\n| Barriss Offee       | feminine  | black  | 166 |\n| Dormé               | feminine  | brown  | 165 |\n| Dooku               | masculine | white  | 193 |\n| Bail Prestor Organa | masculine | black  | 191 |\n| Jango Fett          | masculine | black  | 183 |\n| Zam Wesell          | feminine  | blonde | 168 |\n| Dexter Jettster     | masculine | none   | 198 |\n| Lama Su             | masculine | none   | 229 |\n| Taun We             | feminine  | none   | 213 |\n| Jocasta Nu          | feminine  | white  | 167 |\n| Ratts Tyerell       | masculine | none   |  79 |\n| R4-P17              | feminine  | none   |  96 |\n| Wat Tambor          | masculine | none   | 193 |\n| San Hill            | masculine | none   | 191 |\n| Shaak Ti            | feminine  | none   | 178 |\n| Grievous            | masculine | none   | 216 |\n| Tarfful             | masculine | brown  | 234 |\n| Raymus Antilles     | masculine | brown  | 188 |\n| Tion Medon          | masculine | none   | 206 |\n| Padmé Amidala       | feminine  | brown  | 165 |\n\n",
            "text/latex": "A tibble: 73 × 4\n\\begin{tabular}{llll}\n name & gender & hair\\_color & height\\\\\n <chr> & <fct> & <chr> & <int>\\\\\n\\hline\n\t Luke Skywalker        & masculine & blond         & 172\\\\\n\t Darth Vader           & masculine & none          & 202\\\\\n\t Leia Organa           & feminine  & brown         & 150\\\\\n\t Owen Lars             & masculine & brown, grey   & 178\\\\\n\t Beru Whitesun lars    & feminine  & brown         & 165\\\\\n\t Biggs Darklighter     & masculine & black         & 183\\\\\n\t Obi-Wan Kenobi        & masculine & auburn, white & 182\\\\\n\t Anakin Skywalker      & masculine & blond         & 188\\\\\n\t Wilhuff Tarkin        & masculine & auburn, grey  & 180\\\\\n\t Chewbacca             & masculine & brown         & 228\\\\\n\t Han Solo              & masculine & brown         & 180\\\\\n\t Wedge Antilles        & masculine & brown         & 170\\\\\n\t Jek Tono Porkins      & masculine & brown         & 180\\\\\n\t Yoda                  & masculine & white         &  66\\\\\n\t Palpatine             & masculine & grey          & 170\\\\\n\t Boba Fett             & masculine & black         & 183\\\\\n\t IG-88                 & masculine & none          & 200\\\\\n\t Bossk                 & masculine & none          & 190\\\\\n\t Lando Calrissian      & masculine & black         & 177\\\\\n\t Lobot                 & masculine & none          & 175\\\\\n\t Ackbar                & masculine & none          & 180\\\\\n\t Mon Mothma            & feminine  & auburn        & 150\\\\\n\t Wicket Systri Warrick & masculine & brown         &  88\\\\\n\t Nien Nunb             & masculine & none          & 160\\\\\n\t Qui-Gon Jinn          & masculine & brown         & 193\\\\\n\t Nute Gunray           & masculine & none          & 191\\\\\n\t Finis Valorum         & masculine & blond         & 170\\\\\n\t Jar Jar Binks         & masculine & none          & 196\\\\\n\t Roos Tarpals          & masculine & none          & 224\\\\\n\t Rugor Nass            & masculine & none          & 206\\\\\n\t ⋮ & ⋮ & ⋮ & ⋮\\\\\n\t Adi Gallia          & feminine  & none   & 184\\\\\n\t Saesee Tiin         & masculine & none   & 188\\\\\n\t Yarael Poof         & masculine & none   & 264\\\\\n\t Plo Koon            & masculine & none   & 188\\\\\n\t Mas Amedda          & masculine & none   & 196\\\\\n\t Gregar Typho        & masculine & black  & 185\\\\\n\t Cordé               & feminine  & brown  & 157\\\\\n\t Cliegg Lars         & masculine & brown  & 183\\\\\n\t Poggle the Lesser   & masculine & none   & 183\\\\\n\t Luminara Unduli     & feminine  & black  & 170\\\\\n\t Barriss Offee       & feminine  & black  & 166\\\\\n\t Dormé               & feminine  & brown  & 165\\\\\n\t Dooku               & masculine & white  & 193\\\\\n\t Bail Prestor Organa & masculine & black  & 191\\\\\n\t Jango Fett          & masculine & black  & 183\\\\\n\t Zam Wesell          & feminine  & blonde & 168\\\\\n\t Dexter Jettster     & masculine & none   & 198\\\\\n\t Lama Su             & masculine & none   & 229\\\\\n\t Taun We             & feminine  & none   & 213\\\\\n\t Jocasta Nu          & feminine  & white  & 167\\\\\n\t Ratts Tyerell       & masculine & none   &  79\\\\\n\t R4-P17              & feminine  & none   &  96\\\\\n\t Wat Tambor          & masculine & none   & 193\\\\\n\t San Hill            & masculine & none   & 191\\\\\n\t Shaak Ti            & feminine  & none   & 178\\\\\n\t Grievous            & masculine & none   & 216\\\\\n\t Tarfful             & masculine & brown  & 234\\\\\n\t Raymus Antilles     & masculine & brown  & 188\\\\\n\t Tion Medon          & masculine & none   & 206\\\\\n\t Padmé Amidala       & feminine  & brown  & 165\\\\\n\\end{tabular}\n",
            "text/plain": [
              "   name                  gender    hair_color    height\n",
              "1  Luke Skywalker        masculine blond         172   \n",
              "2  Darth Vader           masculine none          202   \n",
              "3  Leia Organa           feminine  brown         150   \n",
              "4  Owen Lars             masculine brown, grey   178   \n",
              "5  Beru Whitesun lars    feminine  brown         165   \n",
              "6  Biggs Darklighter     masculine black         183   \n",
              "7  Obi-Wan Kenobi        masculine auburn, white 182   \n",
              "8  Anakin Skywalker      masculine blond         188   \n",
              "9  Wilhuff Tarkin        masculine auburn, grey  180   \n",
              "10 Chewbacca             masculine brown         228   \n",
              "11 Han Solo              masculine brown         180   \n",
              "12 Wedge Antilles        masculine brown         170   \n",
              "13 Jek Tono Porkins      masculine brown         180   \n",
              "14 Yoda                  masculine white          66   \n",
              "15 Palpatine             masculine grey          170   \n",
              "16 Boba Fett             masculine black         183   \n",
              "17 IG-88                 masculine none          200   \n",
              "18 Bossk                 masculine none          190   \n",
              "19 Lando Calrissian      masculine black         177   \n",
              "20 Lobot                 masculine none          175   \n",
              "21 Ackbar                masculine none          180   \n",
              "22 Mon Mothma            feminine  auburn        150   \n",
              "23 Wicket Systri Warrick masculine brown          88   \n",
              "24 Nien Nunb             masculine none          160   \n",
              "25 Qui-Gon Jinn          masculine brown         193   \n",
              "26 Nute Gunray           masculine none          191   \n",
              "27 Finis Valorum         masculine blond         170   \n",
              "28 Jar Jar Binks         masculine none          196   \n",
              "29 Roos Tarpals          masculine none          224   \n",
              "30 Rugor Nass            masculine none          206   \n",
              "⋮  ⋮                     ⋮         ⋮             ⋮     \n",
              "44 Adi Gallia            feminine  none          184   \n",
              "45 Saesee Tiin           masculine none          188   \n",
              "46 Yarael Poof           masculine none          264   \n",
              "47 Plo Koon              masculine none          188   \n",
              "48 Mas Amedda            masculine none          196   \n",
              "49 Gregar Typho          masculine black         185   \n",
              "50 Cordé                 feminine  brown         157   \n",
              "51 Cliegg Lars           masculine brown         183   \n",
              "52 Poggle the Lesser     masculine none          183   \n",
              "53 Luminara Unduli       feminine  black         170   \n",
              "54 Barriss Offee         feminine  black         166   \n",
              "55 Dormé                 feminine  brown         165   \n",
              "56 Dooku                 masculine white         193   \n",
              "57 Bail Prestor Organa   masculine black         191   \n",
              "58 Jango Fett            masculine black         183   \n",
              "59 Zam Wesell            feminine  blonde        168   \n",
              "60 Dexter Jettster       masculine none          198   \n",
              "61 Lama Su               masculine none          229   \n",
              "62 Taun We               feminine  none          213   \n",
              "63 Jocasta Nu            feminine  white         167   \n",
              "64 Ratts Tyerell         masculine none           79   \n",
              "65 R4-P17                feminine  none           96   \n",
              "66 Wat Tambor            masculine none          193   \n",
              "67 San Hill              masculine none          191   \n",
              "68 Shaak Ti              feminine  none          178   \n",
              "69 Grievous              masculine none          216   \n",
              "70 Tarfful               masculine brown         234   \n",
              "71 Raymus Antilles       masculine brown         188   \n",
              "72 Tion Medon            masculine none          206   \n",
              "73 Padmé Amidala         feminine  brown         165   "
            ]
          },
          "metadata": {}
        }
      ]
    },
    {
      "cell_type": "code",
      "source": [
        "# missing data\n",
        "# it's better to know the missing values, to know where the missing \n",
        "# observation that has no missing\n",
        "starwars %>%\n",
        "  select(name, gender, hair_color, height) %>%\n",
        "  filter(complete.cases(.)) \n",
        " "
      ],
      "metadata": {
        "colab": {
          "base_uri": "https://localhost:8080/",
          "height": 1000
        },
        "id": "AyQ_bKFbncj_",
        "outputId": "e89fe4c9-46e5-42f7-845a-5de7b597a743"
      },
      "execution_count": null,
      "outputs": [
        {
          "output_type": "display_data",
          "data": {
            "text/html": [
              "<table class=\"dataframe\">\n",
              "<caption>A tibble: 73 × 4</caption>\n",
              "<thead>\n",
              "\t<tr><th scope=col>name</th><th scope=col>gender</th><th scope=col>hair_color</th><th scope=col>height</th></tr>\n",
              "\t<tr><th scope=col>&lt;chr&gt;</th><th scope=col>&lt;fct&gt;</th><th scope=col>&lt;chr&gt;</th><th scope=col>&lt;int&gt;</th></tr>\n",
              "</thead>\n",
              "<tbody>\n",
              "\t<tr><td>Luke Skywalker       </td><td>masculine</td><td>blond        </td><td>172</td></tr>\n",
              "\t<tr><td>Darth Vader          </td><td>masculine</td><td>none         </td><td>202</td></tr>\n",
              "\t<tr><td>Leia Organa          </td><td>feminine </td><td>brown        </td><td>150</td></tr>\n",
              "\t<tr><td>Owen Lars            </td><td>masculine</td><td>brown, grey  </td><td>178</td></tr>\n",
              "\t<tr><td>Beru Whitesun lars   </td><td>feminine </td><td>brown        </td><td>165</td></tr>\n",
              "\t<tr><td>Biggs Darklighter    </td><td>masculine</td><td>black        </td><td>183</td></tr>\n",
              "\t<tr><td>Obi-Wan Kenobi       </td><td>masculine</td><td>auburn, white</td><td>182</td></tr>\n",
              "\t<tr><td>Anakin Skywalker     </td><td>masculine</td><td>blond        </td><td>188</td></tr>\n",
              "\t<tr><td>Wilhuff Tarkin       </td><td>masculine</td><td>auburn, grey </td><td>180</td></tr>\n",
              "\t<tr><td>Chewbacca            </td><td>masculine</td><td>brown        </td><td>228</td></tr>\n",
              "\t<tr><td>Han Solo             </td><td>masculine</td><td>brown        </td><td>180</td></tr>\n",
              "\t<tr><td>Wedge Antilles       </td><td>masculine</td><td>brown        </td><td>170</td></tr>\n",
              "\t<tr><td>Jek Tono Porkins     </td><td>masculine</td><td>brown        </td><td>180</td></tr>\n",
              "\t<tr><td>Yoda                 </td><td>masculine</td><td>white        </td><td> 66</td></tr>\n",
              "\t<tr><td>Palpatine            </td><td>masculine</td><td>grey         </td><td>170</td></tr>\n",
              "\t<tr><td>Boba Fett            </td><td>masculine</td><td>black        </td><td>183</td></tr>\n",
              "\t<tr><td>IG-88                </td><td>masculine</td><td>none         </td><td>200</td></tr>\n",
              "\t<tr><td>Bossk                </td><td>masculine</td><td>none         </td><td>190</td></tr>\n",
              "\t<tr><td>Lando Calrissian     </td><td>masculine</td><td>black        </td><td>177</td></tr>\n",
              "\t<tr><td>Lobot                </td><td>masculine</td><td>none         </td><td>175</td></tr>\n",
              "\t<tr><td>Ackbar               </td><td>masculine</td><td>none         </td><td>180</td></tr>\n",
              "\t<tr><td>Mon Mothma           </td><td>feminine </td><td>auburn       </td><td>150</td></tr>\n",
              "\t<tr><td>Wicket Systri Warrick</td><td>masculine</td><td>brown        </td><td> 88</td></tr>\n",
              "\t<tr><td>Nien Nunb            </td><td>masculine</td><td>none         </td><td>160</td></tr>\n",
              "\t<tr><td>Qui-Gon Jinn         </td><td>masculine</td><td>brown        </td><td>193</td></tr>\n",
              "\t<tr><td>Nute Gunray          </td><td>masculine</td><td>none         </td><td>191</td></tr>\n",
              "\t<tr><td>Finis Valorum        </td><td>masculine</td><td>blond        </td><td>170</td></tr>\n",
              "\t<tr><td>Jar Jar Binks        </td><td>masculine</td><td>none         </td><td>196</td></tr>\n",
              "\t<tr><td>Roos Tarpals         </td><td>masculine</td><td>none         </td><td>224</td></tr>\n",
              "\t<tr><td>Rugor Nass           </td><td>masculine</td><td>none         </td><td>206</td></tr>\n",
              "\t<tr><td>⋮</td><td>⋮</td><td>⋮</td><td>⋮</td></tr>\n",
              "\t<tr><td>Adi Gallia         </td><td>feminine </td><td>none  </td><td>184</td></tr>\n",
              "\t<tr><td>Saesee Tiin        </td><td>masculine</td><td>none  </td><td>188</td></tr>\n",
              "\t<tr><td>Yarael Poof        </td><td>masculine</td><td>none  </td><td>264</td></tr>\n",
              "\t<tr><td>Plo Koon           </td><td>masculine</td><td>none  </td><td>188</td></tr>\n",
              "\t<tr><td>Mas Amedda         </td><td>masculine</td><td>none  </td><td>196</td></tr>\n",
              "\t<tr><td>Gregar Typho       </td><td>masculine</td><td>black </td><td>185</td></tr>\n",
              "\t<tr><td>Cordé              </td><td>feminine </td><td>brown </td><td>157</td></tr>\n",
              "\t<tr><td>Cliegg Lars        </td><td>masculine</td><td>brown </td><td>183</td></tr>\n",
              "\t<tr><td>Poggle the Lesser  </td><td>masculine</td><td>none  </td><td>183</td></tr>\n",
              "\t<tr><td>Luminara Unduli    </td><td>feminine </td><td>black </td><td>170</td></tr>\n",
              "\t<tr><td>Barriss Offee      </td><td>feminine </td><td>black </td><td>166</td></tr>\n",
              "\t<tr><td>Dormé              </td><td>feminine </td><td>brown </td><td>165</td></tr>\n",
              "\t<tr><td>Dooku              </td><td>masculine</td><td>white </td><td>193</td></tr>\n",
              "\t<tr><td>Bail Prestor Organa</td><td>masculine</td><td>black </td><td>191</td></tr>\n",
              "\t<tr><td>Jango Fett         </td><td>masculine</td><td>black </td><td>183</td></tr>\n",
              "\t<tr><td>Zam Wesell         </td><td>feminine </td><td>blonde</td><td>168</td></tr>\n",
              "\t<tr><td>Dexter Jettster    </td><td>masculine</td><td>none  </td><td>198</td></tr>\n",
              "\t<tr><td>Lama Su            </td><td>masculine</td><td>none  </td><td>229</td></tr>\n",
              "\t<tr><td>Taun We            </td><td>feminine </td><td>none  </td><td>213</td></tr>\n",
              "\t<tr><td>Jocasta Nu         </td><td>feminine </td><td>white </td><td>167</td></tr>\n",
              "\t<tr><td>Ratts Tyerell      </td><td>masculine</td><td>none  </td><td> 79</td></tr>\n",
              "\t<tr><td>R4-P17             </td><td>feminine </td><td>none  </td><td> 96</td></tr>\n",
              "\t<tr><td>Wat Tambor         </td><td>masculine</td><td>none  </td><td>193</td></tr>\n",
              "\t<tr><td>San Hill           </td><td>masculine</td><td>none  </td><td>191</td></tr>\n",
              "\t<tr><td>Shaak Ti           </td><td>feminine </td><td>none  </td><td>178</td></tr>\n",
              "\t<tr><td>Grievous           </td><td>masculine</td><td>none  </td><td>216</td></tr>\n",
              "\t<tr><td>Tarfful            </td><td>masculine</td><td>brown </td><td>234</td></tr>\n",
              "\t<tr><td>Raymus Antilles    </td><td>masculine</td><td>brown </td><td>188</td></tr>\n",
              "\t<tr><td>Tion Medon         </td><td>masculine</td><td>none  </td><td>206</td></tr>\n",
              "\t<tr><td>Padmé Amidala      </td><td>feminine </td><td>brown </td><td>165</td></tr>\n",
              "</tbody>\n",
              "</table>\n"
            ],
            "text/markdown": "\nA tibble: 73 × 4\n\n| name &lt;chr&gt; | gender &lt;fct&gt; | hair_color &lt;chr&gt; | height &lt;int&gt; |\n|---|---|---|---|\n| Luke Skywalker        | masculine | blond         | 172 |\n| Darth Vader           | masculine | none          | 202 |\n| Leia Organa           | feminine  | brown         | 150 |\n| Owen Lars             | masculine | brown, grey   | 178 |\n| Beru Whitesun lars    | feminine  | brown         | 165 |\n| Biggs Darklighter     | masculine | black         | 183 |\n| Obi-Wan Kenobi        | masculine | auburn, white | 182 |\n| Anakin Skywalker      | masculine | blond         | 188 |\n| Wilhuff Tarkin        | masculine | auburn, grey  | 180 |\n| Chewbacca             | masculine | brown         | 228 |\n| Han Solo              | masculine | brown         | 180 |\n| Wedge Antilles        | masculine | brown         | 170 |\n| Jek Tono Porkins      | masculine | brown         | 180 |\n| Yoda                  | masculine | white         |  66 |\n| Palpatine             | masculine | grey          | 170 |\n| Boba Fett             | masculine | black         | 183 |\n| IG-88                 | masculine | none          | 200 |\n| Bossk                 | masculine | none          | 190 |\n| Lando Calrissian      | masculine | black         | 177 |\n| Lobot                 | masculine | none          | 175 |\n| Ackbar                | masculine | none          | 180 |\n| Mon Mothma            | feminine  | auburn        | 150 |\n| Wicket Systri Warrick | masculine | brown         |  88 |\n| Nien Nunb             | masculine | none          | 160 |\n| Qui-Gon Jinn          | masculine | brown         | 193 |\n| Nute Gunray           | masculine | none          | 191 |\n| Finis Valorum         | masculine | blond         | 170 |\n| Jar Jar Binks         | masculine | none          | 196 |\n| Roos Tarpals          | masculine | none          | 224 |\n| Rugor Nass            | masculine | none          | 206 |\n| ⋮ | ⋮ | ⋮ | ⋮ |\n| Adi Gallia          | feminine  | none   | 184 |\n| Saesee Tiin         | masculine | none   | 188 |\n| Yarael Poof         | masculine | none   | 264 |\n| Plo Koon            | masculine | none   | 188 |\n| Mas Amedda          | masculine | none   | 196 |\n| Gregar Typho        | masculine | black  | 185 |\n| Cordé               | feminine  | brown  | 157 |\n| Cliegg Lars         | masculine | brown  | 183 |\n| Poggle the Lesser   | masculine | none   | 183 |\n| Luminara Unduli     | feminine  | black  | 170 |\n| Barriss Offee       | feminine  | black  | 166 |\n| Dormé               | feminine  | brown  | 165 |\n| Dooku               | masculine | white  | 193 |\n| Bail Prestor Organa | masculine | black  | 191 |\n| Jango Fett          | masculine | black  | 183 |\n| Zam Wesell          | feminine  | blonde | 168 |\n| Dexter Jettster     | masculine | none   | 198 |\n| Lama Su             | masculine | none   | 229 |\n| Taun We             | feminine  | none   | 213 |\n| Jocasta Nu          | feminine  | white  | 167 |\n| Ratts Tyerell       | masculine | none   |  79 |\n| R4-P17              | feminine  | none   |  96 |\n| Wat Tambor          | masculine | none   | 193 |\n| San Hill            | masculine | none   | 191 |\n| Shaak Ti            | feminine  | none   | 178 |\n| Grievous            | masculine | none   | 216 |\n| Tarfful             | masculine | brown  | 234 |\n| Raymus Antilles     | masculine | brown  | 188 |\n| Tion Medon          | masculine | none   | 206 |\n| Padmé Amidala       | feminine  | brown  | 165 |\n\n",
            "text/latex": "A tibble: 73 × 4\n\\begin{tabular}{llll}\n name & gender & hair\\_color & height\\\\\n <chr> & <fct> & <chr> & <int>\\\\\n\\hline\n\t Luke Skywalker        & masculine & blond         & 172\\\\\n\t Darth Vader           & masculine & none          & 202\\\\\n\t Leia Organa           & feminine  & brown         & 150\\\\\n\t Owen Lars             & masculine & brown, grey   & 178\\\\\n\t Beru Whitesun lars    & feminine  & brown         & 165\\\\\n\t Biggs Darklighter     & masculine & black         & 183\\\\\n\t Obi-Wan Kenobi        & masculine & auburn, white & 182\\\\\n\t Anakin Skywalker      & masculine & blond         & 188\\\\\n\t Wilhuff Tarkin        & masculine & auburn, grey  & 180\\\\\n\t Chewbacca             & masculine & brown         & 228\\\\\n\t Han Solo              & masculine & brown         & 180\\\\\n\t Wedge Antilles        & masculine & brown         & 170\\\\\n\t Jek Tono Porkins      & masculine & brown         & 180\\\\\n\t Yoda                  & masculine & white         &  66\\\\\n\t Palpatine             & masculine & grey          & 170\\\\\n\t Boba Fett             & masculine & black         & 183\\\\\n\t IG-88                 & masculine & none          & 200\\\\\n\t Bossk                 & masculine & none          & 190\\\\\n\t Lando Calrissian      & masculine & black         & 177\\\\\n\t Lobot                 & masculine & none          & 175\\\\\n\t Ackbar                & masculine & none          & 180\\\\\n\t Mon Mothma            & feminine  & auburn        & 150\\\\\n\t Wicket Systri Warrick & masculine & brown         &  88\\\\\n\t Nien Nunb             & masculine & none          & 160\\\\\n\t Qui-Gon Jinn          & masculine & brown         & 193\\\\\n\t Nute Gunray           & masculine & none          & 191\\\\\n\t Finis Valorum         & masculine & blond         & 170\\\\\n\t Jar Jar Binks         & masculine & none          & 196\\\\\n\t Roos Tarpals          & masculine & none          & 224\\\\\n\t Rugor Nass            & masculine & none          & 206\\\\\n\t ⋮ & ⋮ & ⋮ & ⋮\\\\\n\t Adi Gallia          & feminine  & none   & 184\\\\\n\t Saesee Tiin         & masculine & none   & 188\\\\\n\t Yarael Poof         & masculine & none   & 264\\\\\n\t Plo Koon            & masculine & none   & 188\\\\\n\t Mas Amedda          & masculine & none   & 196\\\\\n\t Gregar Typho        & masculine & black  & 185\\\\\n\t Cordé               & feminine  & brown  & 157\\\\\n\t Cliegg Lars         & masculine & brown  & 183\\\\\n\t Poggle the Lesser   & masculine & none   & 183\\\\\n\t Luminara Unduli     & feminine  & black  & 170\\\\\n\t Barriss Offee       & feminine  & black  & 166\\\\\n\t Dormé               & feminine  & brown  & 165\\\\\n\t Dooku               & masculine & white  & 193\\\\\n\t Bail Prestor Organa & masculine & black  & 191\\\\\n\t Jango Fett          & masculine & black  & 183\\\\\n\t Zam Wesell          & feminine  & blonde & 168\\\\\n\t Dexter Jettster     & masculine & none   & 198\\\\\n\t Lama Su             & masculine & none   & 229\\\\\n\t Taun We             & feminine  & none   & 213\\\\\n\t Jocasta Nu          & feminine  & white  & 167\\\\\n\t Ratts Tyerell       & masculine & none   &  79\\\\\n\t R4-P17              & feminine  & none   &  96\\\\\n\t Wat Tambor          & masculine & none   & 193\\\\\n\t San Hill            & masculine & none   & 191\\\\\n\t Shaak Ti            & feminine  & none   & 178\\\\\n\t Grievous            & masculine & none   & 216\\\\\n\t Tarfful             & masculine & brown  & 234\\\\\n\t Raymus Antilles     & masculine & brown  & 188\\\\\n\t Tion Medon          & masculine & none   & 206\\\\\n\t Padmé Amidala       & feminine  & brown  & 165\\\\\n\\end{tabular}\n",
            "text/plain": [
              "   name                  gender    hair_color    height\n",
              "1  Luke Skywalker        masculine blond         172   \n",
              "2  Darth Vader           masculine none          202   \n",
              "3  Leia Organa           feminine  brown         150   \n",
              "4  Owen Lars             masculine brown, grey   178   \n",
              "5  Beru Whitesun lars    feminine  brown         165   \n",
              "6  Biggs Darklighter     masculine black         183   \n",
              "7  Obi-Wan Kenobi        masculine auburn, white 182   \n",
              "8  Anakin Skywalker      masculine blond         188   \n",
              "9  Wilhuff Tarkin        masculine auburn, grey  180   \n",
              "10 Chewbacca             masculine brown         228   \n",
              "11 Han Solo              masculine brown         180   \n",
              "12 Wedge Antilles        masculine brown         170   \n",
              "13 Jek Tono Porkins      masculine brown         180   \n",
              "14 Yoda                  masculine white          66   \n",
              "15 Palpatine             masculine grey          170   \n",
              "16 Boba Fett             masculine black         183   \n",
              "17 IG-88                 masculine none          200   \n",
              "18 Bossk                 masculine none          190   \n",
              "19 Lando Calrissian      masculine black         177   \n",
              "20 Lobot                 masculine none          175   \n",
              "21 Ackbar                masculine none          180   \n",
              "22 Mon Mothma            feminine  auburn        150   \n",
              "23 Wicket Systri Warrick masculine brown          88   \n",
              "24 Nien Nunb             masculine none          160   \n",
              "25 Qui-Gon Jinn          masculine brown         193   \n",
              "26 Nute Gunray           masculine none          191   \n",
              "27 Finis Valorum         masculine blond         170   \n",
              "28 Jar Jar Binks         masculine none          196   \n",
              "29 Roos Tarpals          masculine none          224   \n",
              "30 Rugor Nass            masculine none          206   \n",
              "⋮  ⋮                     ⋮         ⋮             ⋮     \n",
              "44 Adi Gallia            feminine  none          184   \n",
              "45 Saesee Tiin           masculine none          188   \n",
              "46 Yarael Poof           masculine none          264   \n",
              "47 Plo Koon              masculine none          188   \n",
              "48 Mas Amedda            masculine none          196   \n",
              "49 Gregar Typho          masculine black         185   \n",
              "50 Cordé                 feminine  brown         157   \n",
              "51 Cliegg Lars           masculine brown         183   \n",
              "52 Poggle the Lesser     masculine none          183   \n",
              "53 Luminara Unduli       feminine  black         170   \n",
              "54 Barriss Offee         feminine  black         166   \n",
              "55 Dormé                 feminine  brown         165   \n",
              "56 Dooku                 masculine white         193   \n",
              "57 Bail Prestor Organa   masculine black         191   \n",
              "58 Jango Fett            masculine black         183   \n",
              "59 Zam Wesell            feminine  blonde        168   \n",
              "60 Dexter Jettster       masculine none          198   \n",
              "61 Lama Su               masculine none          229   \n",
              "62 Taun We               feminine  none          213   \n",
              "63 Jocasta Nu            feminine  white         167   \n",
              "64 Ratts Tyerell         masculine none           79   \n",
              "65 R4-P17                feminine  none           96   \n",
              "66 Wat Tambor            masculine none          193   \n",
              "67 San Hill              masculine none          191   \n",
              "68 Shaak Ti              feminine  none          178   \n",
              "69 Grievous              masculine none          216   \n",
              "70 Tarfful               masculine brown         234   \n",
              "71 Raymus Antilles       masculine brown         188   \n",
              "72 Tion Medon            masculine none          206   \n",
              "73 Padmé Amidala         feminine  brown         165   "
            ]
          },
          "metadata": {}
        }
      ]
    },
    {
      "cell_type": "code",
      "source": [
        "## exact oposit\n",
        "# now we have a better idea of where the missig variable is\n",
        "starwars %>%\n",
        "  select(name, gender, hair_color, height) %>%\n",
        "  filter(!complete.cases(.))\n",
        "# after seeing the missing values below we will notice for example for the hair color C-3PO and the\n",
        "# next two --> they are droids they don't have hair\n",
        "# but for example for height we would drop the missing value"
      ],
      "metadata": {
        "colab": {
          "base_uri": "https://localhost:8080/",
          "height": 537
        },
        "id": "tEQ_ENUNqNC-",
        "outputId": "f02f4b38-4b0a-4da7-a8e7-c83cb6b99160"
      },
      "execution_count": null,
      "outputs": [
        {
          "output_type": "display_data",
          "data": {
            "text/html": [
              "<table class=\"dataframe\">\n",
              "<caption>A tibble: 14 × 4</caption>\n",
              "<thead>\n",
              "\t<tr><th scope=col>name</th><th scope=col>gender</th><th scope=col>hair_color</th><th scope=col>height</th></tr>\n",
              "\t<tr><th scope=col>&lt;chr&gt;</th><th scope=col>&lt;fct&gt;</th><th scope=col>&lt;chr&gt;</th><th scope=col>&lt;int&gt;</th></tr>\n",
              "</thead>\n",
              "<tbody>\n",
              "\t<tr><td>C-3PO                </td><td>masculine</td><td>NA     </td><td>167</td></tr>\n",
              "\t<tr><td>R2-D2                </td><td>masculine</td><td>NA     </td><td> 96</td></tr>\n",
              "\t<tr><td>R5-D4                </td><td>masculine</td><td>NA     </td><td> 97</td></tr>\n",
              "\t<tr><td>Greedo               </td><td>masculine</td><td>NA     </td><td>173</td></tr>\n",
              "\t<tr><td>Jabba Desilijic Tiure</td><td>masculine</td><td>NA     </td><td>175</td></tr>\n",
              "\t<tr><td>Arvel Crynyd         </td><td>masculine</td><td>brown  </td><td> NA</td></tr>\n",
              "\t<tr><td>Ric Olié             </td><td>NA       </td><td>brown  </td><td>183</td></tr>\n",
              "\t<tr><td>Quarsh Panaka        </td><td>NA       </td><td>black  </td><td>183</td></tr>\n",
              "\t<tr><td>Sly Moore            </td><td>NA       </td><td>none   </td><td>178</td></tr>\n",
              "\t<tr><td>Finn                 </td><td>masculine</td><td>black  </td><td> NA</td></tr>\n",
              "\t<tr><td>Rey                  </td><td>feminine </td><td>brown  </td><td> NA</td></tr>\n",
              "\t<tr><td>Poe Dameron          </td><td>masculine</td><td>brown  </td><td> NA</td></tr>\n",
              "\t<tr><td>BB8                  </td><td>masculine</td><td>none   </td><td> NA</td></tr>\n",
              "\t<tr><td>Captain Phasma       </td><td>NA       </td><td>unknown</td><td> NA</td></tr>\n",
              "</tbody>\n",
              "</table>\n"
            ],
            "text/markdown": "\nA tibble: 14 × 4\n\n| name &lt;chr&gt; | gender &lt;fct&gt; | hair_color &lt;chr&gt; | height &lt;int&gt; |\n|---|---|---|---|\n| C-3PO                 | masculine | NA      | 167 |\n| R2-D2                 | masculine | NA      |  96 |\n| R5-D4                 | masculine | NA      |  97 |\n| Greedo                | masculine | NA      | 173 |\n| Jabba Desilijic Tiure | masculine | NA      | 175 |\n| Arvel Crynyd          | masculine | brown   |  NA |\n| Ric Olié              | NA        | brown   | 183 |\n| Quarsh Panaka         | NA        | black   | 183 |\n| Sly Moore             | NA        | none    | 178 |\n| Finn                  | masculine | black   |  NA |\n| Rey                   | feminine  | brown   |  NA |\n| Poe Dameron           | masculine | brown   |  NA |\n| BB8                   | masculine | none    |  NA |\n| Captain Phasma        | NA        | unknown |  NA |\n\n",
            "text/latex": "A tibble: 14 × 4\n\\begin{tabular}{llll}\n name & gender & hair\\_color & height\\\\\n <chr> & <fct> & <chr> & <int>\\\\\n\\hline\n\t C-3PO                 & masculine & NA      & 167\\\\\n\t R2-D2                 & masculine & NA      &  96\\\\\n\t R5-D4                 & masculine & NA      &  97\\\\\n\t Greedo                & masculine & NA      & 173\\\\\n\t Jabba Desilijic Tiure & masculine & NA      & 175\\\\\n\t Arvel Crynyd          & masculine & brown   &  NA\\\\\n\t Ric Olié              & NA        & brown   & 183\\\\\n\t Quarsh Panaka         & NA        & black   & 183\\\\\n\t Sly Moore             & NA        & none    & 178\\\\\n\t Finn                  & masculine & black   &  NA\\\\\n\t Rey                   & feminine  & brown   &  NA\\\\\n\t Poe Dameron           & masculine & brown   &  NA\\\\\n\t BB8                   & masculine & none    &  NA\\\\\n\t Captain Phasma        & NA        & unknown &  NA\\\\\n\\end{tabular}\n",
            "text/plain": [
              "   name                  gender    hair_color height\n",
              "1  C-3PO                 masculine NA         167   \n",
              "2  R2-D2                 masculine NA          96   \n",
              "3  R5-D4                 masculine NA          97   \n",
              "4  Greedo                masculine NA         173   \n",
              "5  Jabba Desilijic Tiure masculine NA         175   \n",
              "6  Arvel Crynyd          masculine brown       NA   \n",
              "7  Ric Olié              NA        brown      183   \n",
              "8  Quarsh Panaka         NA        black      183   \n",
              "9  Sly Moore             NA        none       178   \n",
              "10 Finn                  masculine black       NA   \n",
              "11 Rey                   feminine  brown       NA   \n",
              "12 Poe Dameron           masculine brown       NA   \n",
              "13 BB8                   masculine none        NA   \n",
              "14 Captain Phasma        NA        unknown     NA   "
            ]
          },
          "metadata": {}
        }
      ]
    },
    {
      "cell_type": "code",
      "source": [
        "## exact oposit\n",
        "# now we have a better idea of where the missig variable is\n",
        "starwars %>%\n",
        "  select(name, gender, hair_color, height) %>%\n",
        "  filter(!complete.cases(.)) %>%\n",
        "  drop_na(height)\n",
        "  \n",
        "# droping where the height is missing"
      ],
      "metadata": {
        "colab": {
          "base_uri": "https://localhost:8080/",
          "height": 349
        },
        "id": "c6trJjPNreIn",
        "outputId": "4f8ad5de-bb85-4d1e-fa33-0b50c36e260d"
      },
      "execution_count": null,
      "outputs": [
        {
          "output_type": "display_data",
          "data": {
            "text/html": [
              "<table class=\"dataframe\">\n",
              "<caption>A tibble: 8 × 4</caption>\n",
              "<thead>\n",
              "\t<tr><th scope=col>name</th><th scope=col>gender</th><th scope=col>hair_color</th><th scope=col>height</th></tr>\n",
              "\t<tr><th scope=col>&lt;chr&gt;</th><th scope=col>&lt;fct&gt;</th><th scope=col>&lt;chr&gt;</th><th scope=col>&lt;int&gt;</th></tr>\n",
              "</thead>\n",
              "<tbody>\n",
              "\t<tr><td>C-3PO                </td><td>masculine</td><td>NA   </td><td>167</td></tr>\n",
              "\t<tr><td>R2-D2                </td><td>masculine</td><td>NA   </td><td> 96</td></tr>\n",
              "\t<tr><td>R5-D4                </td><td>masculine</td><td>NA   </td><td> 97</td></tr>\n",
              "\t<tr><td>Greedo               </td><td>masculine</td><td>NA   </td><td>173</td></tr>\n",
              "\t<tr><td>Jabba Desilijic Tiure</td><td>masculine</td><td>NA   </td><td>175</td></tr>\n",
              "\t<tr><td>Ric Olié             </td><td>NA       </td><td>brown</td><td>183</td></tr>\n",
              "\t<tr><td>Quarsh Panaka        </td><td>NA       </td><td>black</td><td>183</td></tr>\n",
              "\t<tr><td>Sly Moore            </td><td>NA       </td><td>none </td><td>178</td></tr>\n",
              "</tbody>\n",
              "</table>\n"
            ],
            "text/markdown": "\nA tibble: 8 × 4\n\n| name &lt;chr&gt; | gender &lt;fct&gt; | hair_color &lt;chr&gt; | height &lt;int&gt; |\n|---|---|---|---|\n| C-3PO                 | masculine | NA    | 167 |\n| R2-D2                 | masculine | NA    |  96 |\n| R5-D4                 | masculine | NA    |  97 |\n| Greedo                | masculine | NA    | 173 |\n| Jabba Desilijic Tiure | masculine | NA    | 175 |\n| Ric Olié              | NA        | brown | 183 |\n| Quarsh Panaka         | NA        | black | 183 |\n| Sly Moore             | NA        | none  | 178 |\n\n",
            "text/latex": "A tibble: 8 × 4\n\\begin{tabular}{llll}\n name & gender & hair\\_color & height\\\\\n <chr> & <fct> & <chr> & <int>\\\\\n\\hline\n\t C-3PO                 & masculine & NA    & 167\\\\\n\t R2-D2                 & masculine & NA    &  96\\\\\n\t R5-D4                 & masculine & NA    &  97\\\\\n\t Greedo                & masculine & NA    & 173\\\\\n\t Jabba Desilijic Tiure & masculine & NA    & 175\\\\\n\t Ric Olié              & NA        & brown & 183\\\\\n\t Quarsh Panaka         & NA        & black & 183\\\\\n\t Sly Moore             & NA        & none  & 178\\\\\n\\end{tabular}\n",
            "text/plain": [
              "  name                  gender    hair_color height\n",
              "1 C-3PO                 masculine NA         167   \n",
              "2 R2-D2                 masculine NA          96   \n",
              "3 R5-D4                 masculine NA          97   \n",
              "4 Greedo                masculine NA         173   \n",
              "5 Jabba Desilijic Tiure masculine NA         175   \n",
              "6 Ric Olié              NA        brown      183   \n",
              "7 Quarsh Panaka         NA        black      183   \n",
              "8 Sly Moore             NA        none       178   "
            ]
          },
          "metadata": {}
        }
      ]
    },
    {
      "cell_type": "markdown",
      "source": [
        "to create new variables (columns) or modify existing variables in a data frame."
      ],
      "metadata": {
        "id": "dCGhJDxauJSG"
      }
    },
    {
      "cell_type": "code",
      "source": [
        "## exact opposit\n",
        "# now we have a better idea of where the missig variable is\n",
        "starwars %>%\n",
        "  select(name, gender, hair_color, height) %>%\n",
        "  filter(!complete.cases(.)) %>%\n",
        "  mutate(hair_color = replace_na(hair_color, \"none\"))"
      ],
      "metadata": {
        "colab": {
          "base_uri": "https://localhost:8080/",
          "height": 537
        },
        "id": "M-VejWK-r04F",
        "outputId": "1a157fb8-e8c6-405c-f18f-0095329a08c8"
      },
      "execution_count": null,
      "outputs": [
        {
          "output_type": "display_data",
          "data": {
            "text/html": [
              "<table class=\"dataframe\">\n",
              "<caption>A tibble: 14 × 4</caption>\n",
              "<thead>\n",
              "\t<tr><th scope=col>name</th><th scope=col>gender</th><th scope=col>hair_color</th><th scope=col>height</th></tr>\n",
              "\t<tr><th scope=col>&lt;chr&gt;</th><th scope=col>&lt;fct&gt;</th><th scope=col>&lt;chr&gt;</th><th scope=col>&lt;int&gt;</th></tr>\n",
              "</thead>\n",
              "<tbody>\n",
              "\t<tr><td>C-3PO                </td><td>masculine</td><td>none   </td><td>167</td></tr>\n",
              "\t<tr><td>R2-D2                </td><td>masculine</td><td>none   </td><td> 96</td></tr>\n",
              "\t<tr><td>R5-D4                </td><td>masculine</td><td>none   </td><td> 97</td></tr>\n",
              "\t<tr><td>Greedo               </td><td>masculine</td><td>none   </td><td>173</td></tr>\n",
              "\t<tr><td>Jabba Desilijic Tiure</td><td>masculine</td><td>none   </td><td>175</td></tr>\n",
              "\t<tr><td>Arvel Crynyd         </td><td>masculine</td><td>brown  </td><td> NA</td></tr>\n",
              "\t<tr><td>Ric Olié             </td><td>NA       </td><td>brown  </td><td>183</td></tr>\n",
              "\t<tr><td>Quarsh Panaka        </td><td>NA       </td><td>black  </td><td>183</td></tr>\n",
              "\t<tr><td>Sly Moore            </td><td>NA       </td><td>none   </td><td>178</td></tr>\n",
              "\t<tr><td>Finn                 </td><td>masculine</td><td>black  </td><td> NA</td></tr>\n",
              "\t<tr><td>Rey                  </td><td>feminine </td><td>brown  </td><td> NA</td></tr>\n",
              "\t<tr><td>Poe Dameron          </td><td>masculine</td><td>brown  </td><td> NA</td></tr>\n",
              "\t<tr><td>BB8                  </td><td>masculine</td><td>none   </td><td> NA</td></tr>\n",
              "\t<tr><td>Captain Phasma       </td><td>NA       </td><td>unknown</td><td> NA</td></tr>\n",
              "</tbody>\n",
              "</table>\n"
            ],
            "text/markdown": "\nA tibble: 14 × 4\n\n| name &lt;chr&gt; | gender &lt;fct&gt; | hair_color &lt;chr&gt; | height &lt;int&gt; |\n|---|---|---|---|\n| C-3PO                 | masculine | none    | 167 |\n| R2-D2                 | masculine | none    |  96 |\n| R5-D4                 | masculine | none    |  97 |\n| Greedo                | masculine | none    | 173 |\n| Jabba Desilijic Tiure | masculine | none    | 175 |\n| Arvel Crynyd          | masculine | brown   |  NA |\n| Ric Olié              | NA        | brown   | 183 |\n| Quarsh Panaka         | NA        | black   | 183 |\n| Sly Moore             | NA        | none    | 178 |\n| Finn                  | masculine | black   |  NA |\n| Rey                   | feminine  | brown   |  NA |\n| Poe Dameron           | masculine | brown   |  NA |\n| BB8                   | masculine | none    |  NA |\n| Captain Phasma        | NA        | unknown |  NA |\n\n",
            "text/latex": "A tibble: 14 × 4\n\\begin{tabular}{llll}\n name & gender & hair\\_color & height\\\\\n <chr> & <fct> & <chr> & <int>\\\\\n\\hline\n\t C-3PO                 & masculine & none    & 167\\\\\n\t R2-D2                 & masculine & none    &  96\\\\\n\t R5-D4                 & masculine & none    &  97\\\\\n\t Greedo                & masculine & none    & 173\\\\\n\t Jabba Desilijic Tiure & masculine & none    & 175\\\\\n\t Arvel Crynyd          & masculine & brown   &  NA\\\\\n\t Ric Olié              & NA        & brown   & 183\\\\\n\t Quarsh Panaka         & NA        & black   & 183\\\\\n\t Sly Moore             & NA        & none    & 178\\\\\n\t Finn                  & masculine & black   &  NA\\\\\n\t Rey                   & feminine  & brown   &  NA\\\\\n\t Poe Dameron           & masculine & brown   &  NA\\\\\n\t BB8                   & masculine & none    &  NA\\\\\n\t Captain Phasma        & NA        & unknown &  NA\\\\\n\\end{tabular}\n",
            "text/plain": [
              "   name                  gender    hair_color height\n",
              "1  C-3PO                 masculine none       167   \n",
              "2  R2-D2                 masculine none        96   \n",
              "3  R5-D4                 masculine none        97   \n",
              "4  Greedo                masculine none       173   \n",
              "5  Jabba Desilijic Tiure masculine none       175   \n",
              "6  Arvel Crynyd          masculine brown       NA   \n",
              "7  Ric Olié              NA        brown      183   \n",
              "8  Quarsh Panaka         NA        black      183   \n",
              "9  Sly Moore             NA        none       178   \n",
              "10 Finn                  masculine black       NA   \n",
              "11 Rey                   feminine  brown       NA   \n",
              "12 Poe Dameron           masculine brown       NA   \n",
              "13 BB8                   masculine none        NA   \n",
              "14 Captain Phasma        NA        unknown     NA   "
            ]
          },
          "metadata": {}
        }
      ]
    },
    {
      "cell_type": "code",
      "source": [
        "# adding another column of hair_color2\n",
        "starwars %>%\n",
        "  select(name, gender, hair_color, height) %>%\n",
        "  filter(!complete.cases(.)) %>%\n",
        "  mutate(hair_color2 = replace_na(hair_color, \"none\"))"
      ],
      "metadata": {
        "colab": {
          "base_uri": "https://localhost:8080/",
          "height": 537
        },
        "id": "v4azxaIUxKI_",
        "outputId": "d720090c-67a7-4da7-e35c-e6fbff2bd1bc"
      },
      "execution_count": null,
      "outputs": [
        {
          "output_type": "display_data",
          "data": {
            "text/html": [
              "<table class=\"dataframe\">\n",
              "<caption>A tibble: 14 × 5</caption>\n",
              "<thead>\n",
              "\t<tr><th scope=col>name</th><th scope=col>gender</th><th scope=col>hair_color</th><th scope=col>height</th><th scope=col>hair_color2</th></tr>\n",
              "\t<tr><th scope=col>&lt;chr&gt;</th><th scope=col>&lt;fct&gt;</th><th scope=col>&lt;chr&gt;</th><th scope=col>&lt;int&gt;</th><th scope=col>&lt;chr&gt;</th></tr>\n",
              "</thead>\n",
              "<tbody>\n",
              "\t<tr><td>C-3PO                </td><td>masculine</td><td>NA     </td><td>167</td><td>none   </td></tr>\n",
              "\t<tr><td>R2-D2                </td><td>masculine</td><td>NA     </td><td> 96</td><td>none   </td></tr>\n",
              "\t<tr><td>R5-D4                </td><td>masculine</td><td>NA     </td><td> 97</td><td>none   </td></tr>\n",
              "\t<tr><td>Greedo               </td><td>masculine</td><td>NA     </td><td>173</td><td>none   </td></tr>\n",
              "\t<tr><td>Jabba Desilijic Tiure</td><td>masculine</td><td>NA     </td><td>175</td><td>none   </td></tr>\n",
              "\t<tr><td>Arvel Crynyd         </td><td>masculine</td><td>brown  </td><td> NA</td><td>brown  </td></tr>\n",
              "\t<tr><td>Ric Olié             </td><td>NA       </td><td>brown  </td><td>183</td><td>brown  </td></tr>\n",
              "\t<tr><td>Quarsh Panaka        </td><td>NA       </td><td>black  </td><td>183</td><td>black  </td></tr>\n",
              "\t<tr><td>Sly Moore            </td><td>NA       </td><td>none   </td><td>178</td><td>none   </td></tr>\n",
              "\t<tr><td>Finn                 </td><td>masculine</td><td>black  </td><td> NA</td><td>black  </td></tr>\n",
              "\t<tr><td>Rey                  </td><td>feminine </td><td>brown  </td><td> NA</td><td>brown  </td></tr>\n",
              "\t<tr><td>Poe Dameron          </td><td>masculine</td><td>brown  </td><td> NA</td><td>brown  </td></tr>\n",
              "\t<tr><td>BB8                  </td><td>masculine</td><td>none   </td><td> NA</td><td>none   </td></tr>\n",
              "\t<tr><td>Captain Phasma       </td><td>NA       </td><td>unknown</td><td> NA</td><td>unknown</td></tr>\n",
              "</tbody>\n",
              "</table>\n"
            ],
            "text/markdown": "\nA tibble: 14 × 5\n\n| name &lt;chr&gt; | gender &lt;fct&gt; | hair_color &lt;chr&gt; | height &lt;int&gt; | hair_color2 &lt;chr&gt; |\n|---|---|---|---|---|\n| C-3PO                 | masculine | NA      | 167 | none    |\n| R2-D2                 | masculine | NA      |  96 | none    |\n| R5-D4                 | masculine | NA      |  97 | none    |\n| Greedo                | masculine | NA      | 173 | none    |\n| Jabba Desilijic Tiure | masculine | NA      | 175 | none    |\n| Arvel Crynyd          | masculine | brown   |  NA | brown   |\n| Ric Olié              | NA        | brown   | 183 | brown   |\n| Quarsh Panaka         | NA        | black   | 183 | black   |\n| Sly Moore             | NA        | none    | 178 | none    |\n| Finn                  | masculine | black   |  NA | black   |\n| Rey                   | feminine  | brown   |  NA | brown   |\n| Poe Dameron           | masculine | brown   |  NA | brown   |\n| BB8                   | masculine | none    |  NA | none    |\n| Captain Phasma        | NA        | unknown |  NA | unknown |\n\n",
            "text/latex": "A tibble: 14 × 5\n\\begin{tabular}{lllll}\n name & gender & hair\\_color & height & hair\\_color2\\\\\n <chr> & <fct> & <chr> & <int> & <chr>\\\\\n\\hline\n\t C-3PO                 & masculine & NA      & 167 & none   \\\\\n\t R2-D2                 & masculine & NA      &  96 & none   \\\\\n\t R5-D4                 & masculine & NA      &  97 & none   \\\\\n\t Greedo                & masculine & NA      & 173 & none   \\\\\n\t Jabba Desilijic Tiure & masculine & NA      & 175 & none   \\\\\n\t Arvel Crynyd          & masculine & brown   &  NA & brown  \\\\\n\t Ric Olié              & NA        & brown   & 183 & brown  \\\\\n\t Quarsh Panaka         & NA        & black   & 183 & black  \\\\\n\t Sly Moore             & NA        & none    & 178 & none   \\\\\n\t Finn                  & masculine & black   &  NA & black  \\\\\n\t Rey                   & feminine  & brown   &  NA & brown  \\\\\n\t Poe Dameron           & masculine & brown   &  NA & brown  \\\\\n\t BB8                   & masculine & none    &  NA & none   \\\\\n\t Captain Phasma        & NA        & unknown &  NA & unknown\\\\\n\\end{tabular}\n",
            "text/plain": [
              "   name                  gender    hair_color height hair_color2\n",
              "1  C-3PO                 masculine NA         167    none       \n",
              "2  R2-D2                 masculine NA          96    none       \n",
              "3  R5-D4                 masculine NA          97    none       \n",
              "4  Greedo                masculine NA         173    none       \n",
              "5  Jabba Desilijic Tiure masculine NA         175    none       \n",
              "6  Arvel Crynyd          masculine brown       NA    brown      \n",
              "7  Ric Olié              NA        brown      183    brown      \n",
              "8  Quarsh Panaka         NA        black      183    black      \n",
              "9  Sly Moore             NA        none       178    none       \n",
              "10 Finn                  masculine black       NA    black      \n",
              "11 Rey                   feminine  brown       NA    brown      \n",
              "12 Poe Dameron           masculine brown       NA    brown      \n",
              "13 BB8                   masculine none        NA    none       \n",
              "14 Captain Phasma        NA        unknown     NA    unknown    "
            ]
          },
          "metadata": {}
        }
      ]
    },
    {
      "cell_type": "code",
      "source": [
        "## duplicates\n",
        "# because the starwars dataset does not have duplicate variables\n",
        "# we need to manually make a dataframe\n",
        "Names <- c(\"Peter\",\"John\",\"Andrew\",\"Peter\")\n",
        "Age <- c(22, 33, 44, 22)\n",
        "friends <- data.frame(Names, Age)\n",
        "friends[!duplicated(friends),]\n",
        "friends %>% distinct()\n"
      ],
      "metadata": {
        "colab": {
          "base_uri": "https://localhost:8080/",
          "height": 385
        },
        "id": "8PerORVztn38",
        "outputId": "a9240e11-80eb-4262-b80a-f7d4992c762b"
      },
      "execution_count": null,
      "outputs": [
        {
          "output_type": "display_data",
          "data": {
            "text/html": [
              "<table class=\"dataframe\">\n",
              "<caption>A data.frame: 3 × 2</caption>\n",
              "<thead>\n",
              "\t<tr><th></th><th scope=col>Names</th><th scope=col>Age</th></tr>\n",
              "\t<tr><th></th><th scope=col>&lt;chr&gt;</th><th scope=col>&lt;dbl&gt;</th></tr>\n",
              "</thead>\n",
              "<tbody>\n",
              "\t<tr><th scope=row>1</th><td>Peter </td><td>22</td></tr>\n",
              "\t<tr><th scope=row>2</th><td>John  </td><td>33</td></tr>\n",
              "\t<tr><th scope=row>3</th><td>Andrew</td><td>44</td></tr>\n",
              "</tbody>\n",
              "</table>\n"
            ],
            "text/markdown": "\nA data.frame: 3 × 2\n\n| <!--/--> | Names &lt;chr&gt; | Age &lt;dbl&gt; |\n|---|---|---|\n| 1 | Peter  | 22 |\n| 2 | John   | 33 |\n| 3 | Andrew | 44 |\n\n",
            "text/latex": "A data.frame: 3 × 2\n\\begin{tabular}{r|ll}\n  & Names & Age\\\\\n  & <chr> & <dbl>\\\\\n\\hline\n\t1 & Peter  & 22\\\\\n\t2 & John   & 33\\\\\n\t3 & Andrew & 44\\\\\n\\end{tabular}\n",
            "text/plain": [
              "  Names  Age\n",
              "1 Peter  22 \n",
              "2 John   33 \n",
              "3 Andrew 44 "
            ]
          },
          "metadata": {}
        },
        {
          "output_type": "display_data",
          "data": {
            "text/html": [
              "<table class=\"dataframe\">\n",
              "<caption>A data.frame: 3 × 2</caption>\n",
              "<thead>\n",
              "\t<tr><th scope=col>Names</th><th scope=col>Age</th></tr>\n",
              "\t<tr><th scope=col>&lt;chr&gt;</th><th scope=col>&lt;dbl&gt;</th></tr>\n",
              "</thead>\n",
              "<tbody>\n",
              "\t<tr><td>Peter </td><td>22</td></tr>\n",
              "\t<tr><td>John  </td><td>33</td></tr>\n",
              "\t<tr><td>Andrew</td><td>44</td></tr>\n",
              "</tbody>\n",
              "</table>\n"
            ],
            "text/markdown": "\nA data.frame: 3 × 2\n\n| Names &lt;chr&gt; | Age &lt;dbl&gt; |\n|---|---|\n| Peter  | 22 |\n| John   | 33 |\n| Andrew | 44 |\n\n",
            "text/latex": "A data.frame: 3 × 2\n\\begin{tabular}{ll}\n Names & Age\\\\\n <chr> & <dbl>\\\\\n\\hline\n\t Peter  & 22\\\\\n\t John   & 33\\\\\n\t Andrew & 44\\\\\n\\end{tabular}\n",
            "text/plain": [
              "  Names  Age\n",
              "1 Peter  22 \n",
              "2 John   33 \n",
              "3 Andrew 44 "
            ]
          },
          "metadata": {}
        }
      ]
    },
    {
      "cell_type": "code",
      "source": [
        "# logical vector\n",
        "duplicated(friends)"
      ],
      "metadata": {
        "colab": {
          "base_uri": "https://localhost:8080/",
          "height": 34
        },
        "id": "HGzyWB3bxY6k",
        "outputId": "cd92cdf6-6a57-4868-f88f-c341b59fc681"
      },
      "execution_count": null,
      "outputs": [
        {
          "output_type": "display_data",
          "data": {
            "text/html": [
              "<style>\n",
              ".list-inline {list-style: none; margin:0; padding: 0}\n",
              ".list-inline>li {display: inline-block}\n",
              ".list-inline>li:not(:last-child)::after {content: \"\\00b7\"; padding: 0 .5ex}\n",
              "</style>\n",
              "<ol class=list-inline><li>FALSE</li><li>FALSE</li><li>FALSE</li><li>TRUE</li></ol>\n"
            ],
            "text/markdown": "1. FALSE\n2. FALSE\n3. FALSE\n4. TRUE\n\n\n",
            "text/latex": "\\begin{enumerate*}\n\\item FALSE\n\\item FALSE\n\\item FALSE\n\\item TRUE\n\\end{enumerate*}\n",
            "text/plain": [
              "[1] FALSE FALSE FALSE  TRUE"
            ]
          },
          "metadata": {}
        }
      ]
    },
    {
      "cell_type": "code",
      "source": [
        "# recode variables \n",
        "# we may need to store masculine and feminine as 1 and 2\n",
        "starwars %>% select(name, gender)\n",
        "starwars %>%\n",
        "  select(name, gender)%>%\n",
        "  mutate(gender_coded = recode(gender, \"masculine\" = 1, \"feminine\" = 2))"
      ],
      "metadata": {
        "colab": {
          "base_uri": "https://localhost:8080/",
          "height": 1000
        },
        "id": "EGIF0ok4uHtv",
        "outputId": "ee1498b7-4682-44aa-f7c0-7dbc94c13e2a"
      },
      "execution_count": null,
      "outputs": [
        {
          "output_type": "display_data",
          "data": {
            "text/html": [
              "<table class=\"dataframe\">\n",
              "<caption>A tibble: 87 × 2</caption>\n",
              "<thead>\n",
              "\t<tr><th scope=col>name</th><th scope=col>gender</th></tr>\n",
              "\t<tr><th scope=col>&lt;chr&gt;</th><th scope=col>&lt;fct&gt;</th></tr>\n",
              "</thead>\n",
              "<tbody>\n",
              "\t<tr><td>Luke Skywalker       </td><td>masculine</td></tr>\n",
              "\t<tr><td>C-3PO                </td><td>masculine</td></tr>\n",
              "\t<tr><td>R2-D2                </td><td>masculine</td></tr>\n",
              "\t<tr><td>Darth Vader          </td><td>masculine</td></tr>\n",
              "\t<tr><td>Leia Organa          </td><td>feminine </td></tr>\n",
              "\t<tr><td>Owen Lars            </td><td>masculine</td></tr>\n",
              "\t<tr><td>Beru Whitesun lars   </td><td>feminine </td></tr>\n",
              "\t<tr><td>R5-D4                </td><td>masculine</td></tr>\n",
              "\t<tr><td>Biggs Darklighter    </td><td>masculine</td></tr>\n",
              "\t<tr><td>Obi-Wan Kenobi       </td><td>masculine</td></tr>\n",
              "\t<tr><td>Anakin Skywalker     </td><td>masculine</td></tr>\n",
              "\t<tr><td>Wilhuff Tarkin       </td><td>masculine</td></tr>\n",
              "\t<tr><td>Chewbacca            </td><td>masculine</td></tr>\n",
              "\t<tr><td>Han Solo             </td><td>masculine</td></tr>\n",
              "\t<tr><td>Greedo               </td><td>masculine</td></tr>\n",
              "\t<tr><td>Jabba Desilijic Tiure</td><td>masculine</td></tr>\n",
              "\t<tr><td>Wedge Antilles       </td><td>masculine</td></tr>\n",
              "\t<tr><td>Jek Tono Porkins     </td><td>masculine</td></tr>\n",
              "\t<tr><td>Yoda                 </td><td>masculine</td></tr>\n",
              "\t<tr><td>Palpatine            </td><td>masculine</td></tr>\n",
              "\t<tr><td>Boba Fett            </td><td>masculine</td></tr>\n",
              "\t<tr><td>IG-88                </td><td>masculine</td></tr>\n",
              "\t<tr><td>Bossk                </td><td>masculine</td></tr>\n",
              "\t<tr><td>Lando Calrissian     </td><td>masculine</td></tr>\n",
              "\t<tr><td>Lobot                </td><td>masculine</td></tr>\n",
              "\t<tr><td>Ackbar               </td><td>masculine</td></tr>\n",
              "\t<tr><td>Mon Mothma           </td><td>feminine </td></tr>\n",
              "\t<tr><td>Arvel Crynyd         </td><td>masculine</td></tr>\n",
              "\t<tr><td>Wicket Systri Warrick</td><td>masculine</td></tr>\n",
              "\t<tr><td>Nien Nunb            </td><td>masculine</td></tr>\n",
              "\t<tr><td>⋮</td><td>⋮</td></tr>\n",
              "\t<tr><td>Cordé              </td><td>feminine </td></tr>\n",
              "\t<tr><td>Cliegg Lars        </td><td>masculine</td></tr>\n",
              "\t<tr><td>Poggle the Lesser  </td><td>masculine</td></tr>\n",
              "\t<tr><td>Luminara Unduli    </td><td>feminine </td></tr>\n",
              "\t<tr><td>Barriss Offee      </td><td>feminine </td></tr>\n",
              "\t<tr><td>Dormé              </td><td>feminine </td></tr>\n",
              "\t<tr><td>Dooku              </td><td>masculine</td></tr>\n",
              "\t<tr><td>Bail Prestor Organa</td><td>masculine</td></tr>\n",
              "\t<tr><td>Jango Fett         </td><td>masculine</td></tr>\n",
              "\t<tr><td>Zam Wesell         </td><td>feminine </td></tr>\n",
              "\t<tr><td>Dexter Jettster    </td><td>masculine</td></tr>\n",
              "\t<tr><td>Lama Su            </td><td>masculine</td></tr>\n",
              "\t<tr><td>Taun We            </td><td>feminine </td></tr>\n",
              "\t<tr><td>Jocasta Nu         </td><td>feminine </td></tr>\n",
              "\t<tr><td>Ratts Tyerell      </td><td>masculine</td></tr>\n",
              "\t<tr><td>R4-P17             </td><td>feminine </td></tr>\n",
              "\t<tr><td>Wat Tambor         </td><td>masculine</td></tr>\n",
              "\t<tr><td>San Hill           </td><td>masculine</td></tr>\n",
              "\t<tr><td>Shaak Ti           </td><td>feminine </td></tr>\n",
              "\t<tr><td>Grievous           </td><td>masculine</td></tr>\n",
              "\t<tr><td>Tarfful            </td><td>masculine</td></tr>\n",
              "\t<tr><td>Raymus Antilles    </td><td>masculine</td></tr>\n",
              "\t<tr><td>Sly Moore          </td><td>NA       </td></tr>\n",
              "\t<tr><td>Tion Medon         </td><td>masculine</td></tr>\n",
              "\t<tr><td>Finn               </td><td>masculine</td></tr>\n",
              "\t<tr><td>Rey                </td><td>feminine </td></tr>\n",
              "\t<tr><td>Poe Dameron        </td><td>masculine</td></tr>\n",
              "\t<tr><td>BB8                </td><td>masculine</td></tr>\n",
              "\t<tr><td>Captain Phasma     </td><td>NA       </td></tr>\n",
              "\t<tr><td>Padmé Amidala      </td><td>feminine </td></tr>\n",
              "</tbody>\n",
              "</table>\n"
            ],
            "text/markdown": "\nA tibble: 87 × 2\n\n| name &lt;chr&gt; | gender &lt;fct&gt; |\n|---|---|\n| Luke Skywalker        | masculine |\n| C-3PO                 | masculine |\n| R2-D2                 | masculine |\n| Darth Vader           | masculine |\n| Leia Organa           | feminine  |\n| Owen Lars             | masculine |\n| Beru Whitesun lars    | feminine  |\n| R5-D4                 | masculine |\n| Biggs Darklighter     | masculine |\n| Obi-Wan Kenobi        | masculine |\n| Anakin Skywalker      | masculine |\n| Wilhuff Tarkin        | masculine |\n| Chewbacca             | masculine |\n| Han Solo              | masculine |\n| Greedo                | masculine |\n| Jabba Desilijic Tiure | masculine |\n| Wedge Antilles        | masculine |\n| Jek Tono Porkins      | masculine |\n| Yoda                  | masculine |\n| Palpatine             | masculine |\n| Boba Fett             | masculine |\n| IG-88                 | masculine |\n| Bossk                 | masculine |\n| Lando Calrissian      | masculine |\n| Lobot                 | masculine |\n| Ackbar                | masculine |\n| Mon Mothma            | feminine  |\n| Arvel Crynyd          | masculine |\n| Wicket Systri Warrick | masculine |\n| Nien Nunb             | masculine |\n| ⋮ | ⋮ |\n| Cordé               | feminine  |\n| Cliegg Lars         | masculine |\n| Poggle the Lesser   | masculine |\n| Luminara Unduli     | feminine  |\n| Barriss Offee       | feminine  |\n| Dormé               | feminine  |\n| Dooku               | masculine |\n| Bail Prestor Organa | masculine |\n| Jango Fett          | masculine |\n| Zam Wesell          | feminine  |\n| Dexter Jettster     | masculine |\n| Lama Su             | masculine |\n| Taun We             | feminine  |\n| Jocasta Nu          | feminine  |\n| Ratts Tyerell       | masculine |\n| R4-P17              | feminine  |\n| Wat Tambor          | masculine |\n| San Hill            | masculine |\n| Shaak Ti            | feminine  |\n| Grievous            | masculine |\n| Tarfful             | masculine |\n| Raymus Antilles     | masculine |\n| Sly Moore           | NA        |\n| Tion Medon          | masculine |\n| Finn                | masculine |\n| Rey                 | feminine  |\n| Poe Dameron         | masculine |\n| BB8                 | masculine |\n| Captain Phasma      | NA        |\n| Padmé Amidala       | feminine  |\n\n",
            "text/latex": "A tibble: 87 × 2\n\\begin{tabular}{ll}\n name & gender\\\\\n <chr> & <fct>\\\\\n\\hline\n\t Luke Skywalker        & masculine\\\\\n\t C-3PO                 & masculine\\\\\n\t R2-D2                 & masculine\\\\\n\t Darth Vader           & masculine\\\\\n\t Leia Organa           & feminine \\\\\n\t Owen Lars             & masculine\\\\\n\t Beru Whitesun lars    & feminine \\\\\n\t R5-D4                 & masculine\\\\\n\t Biggs Darklighter     & masculine\\\\\n\t Obi-Wan Kenobi        & masculine\\\\\n\t Anakin Skywalker      & masculine\\\\\n\t Wilhuff Tarkin        & masculine\\\\\n\t Chewbacca             & masculine\\\\\n\t Han Solo              & masculine\\\\\n\t Greedo                & masculine\\\\\n\t Jabba Desilijic Tiure & masculine\\\\\n\t Wedge Antilles        & masculine\\\\\n\t Jek Tono Porkins      & masculine\\\\\n\t Yoda                  & masculine\\\\\n\t Palpatine             & masculine\\\\\n\t Boba Fett             & masculine\\\\\n\t IG-88                 & masculine\\\\\n\t Bossk                 & masculine\\\\\n\t Lando Calrissian      & masculine\\\\\n\t Lobot                 & masculine\\\\\n\t Ackbar                & masculine\\\\\n\t Mon Mothma            & feminine \\\\\n\t Arvel Crynyd          & masculine\\\\\n\t Wicket Systri Warrick & masculine\\\\\n\t Nien Nunb             & masculine\\\\\n\t ⋮ & ⋮\\\\\n\t Cordé               & feminine \\\\\n\t Cliegg Lars         & masculine\\\\\n\t Poggle the Lesser   & masculine\\\\\n\t Luminara Unduli     & feminine \\\\\n\t Barriss Offee       & feminine \\\\\n\t Dormé               & feminine \\\\\n\t Dooku               & masculine\\\\\n\t Bail Prestor Organa & masculine\\\\\n\t Jango Fett          & masculine\\\\\n\t Zam Wesell          & feminine \\\\\n\t Dexter Jettster     & masculine\\\\\n\t Lama Su             & masculine\\\\\n\t Taun We             & feminine \\\\\n\t Jocasta Nu          & feminine \\\\\n\t Ratts Tyerell       & masculine\\\\\n\t R4-P17              & feminine \\\\\n\t Wat Tambor          & masculine\\\\\n\t San Hill            & masculine\\\\\n\t Shaak Ti            & feminine \\\\\n\t Grievous            & masculine\\\\\n\t Tarfful             & masculine\\\\\n\t Raymus Antilles     & masculine\\\\\n\t Sly Moore           & NA       \\\\\n\t Tion Medon          & masculine\\\\\n\t Finn                & masculine\\\\\n\t Rey                 & feminine \\\\\n\t Poe Dameron         & masculine\\\\\n\t BB8                 & masculine\\\\\n\t Captain Phasma      & NA       \\\\\n\t Padmé Amidala       & feminine \\\\\n\\end{tabular}\n",
            "text/plain": [
              "   name                  gender   \n",
              "1  Luke Skywalker        masculine\n",
              "2  C-3PO                 masculine\n",
              "3  R2-D2                 masculine\n",
              "4  Darth Vader           masculine\n",
              "5  Leia Organa           feminine \n",
              "6  Owen Lars             masculine\n",
              "7  Beru Whitesun lars    feminine \n",
              "8  R5-D4                 masculine\n",
              "9  Biggs Darklighter     masculine\n",
              "10 Obi-Wan Kenobi        masculine\n",
              "11 Anakin Skywalker      masculine\n",
              "12 Wilhuff Tarkin        masculine\n",
              "13 Chewbacca             masculine\n",
              "14 Han Solo              masculine\n",
              "15 Greedo                masculine\n",
              "16 Jabba Desilijic Tiure masculine\n",
              "17 Wedge Antilles        masculine\n",
              "18 Jek Tono Porkins      masculine\n",
              "19 Yoda                  masculine\n",
              "20 Palpatine             masculine\n",
              "21 Boba Fett             masculine\n",
              "22 IG-88                 masculine\n",
              "23 Bossk                 masculine\n",
              "24 Lando Calrissian      masculine\n",
              "25 Lobot                 masculine\n",
              "26 Ackbar                masculine\n",
              "27 Mon Mothma            feminine \n",
              "28 Arvel Crynyd          masculine\n",
              "29 Wicket Systri Warrick masculine\n",
              "30 Nien Nunb             masculine\n",
              "⋮  ⋮                     ⋮        \n",
              "58 Cordé                 feminine \n",
              "59 Cliegg Lars           masculine\n",
              "60 Poggle the Lesser     masculine\n",
              "61 Luminara Unduli       feminine \n",
              "62 Barriss Offee         feminine \n",
              "63 Dormé                 feminine \n",
              "64 Dooku                 masculine\n",
              "65 Bail Prestor Organa   masculine\n",
              "66 Jango Fett            masculine\n",
              "67 Zam Wesell            feminine \n",
              "68 Dexter Jettster       masculine\n",
              "69 Lama Su               masculine\n",
              "70 Taun We               feminine \n",
              "71 Jocasta Nu            feminine \n",
              "72 Ratts Tyerell         masculine\n",
              "73 R4-P17                feminine \n",
              "74 Wat Tambor            masculine\n",
              "75 San Hill              masculine\n",
              "76 Shaak Ti              feminine \n",
              "77 Grievous              masculine\n",
              "78 Tarfful               masculine\n",
              "79 Raymus Antilles       masculine\n",
              "80 Sly Moore             NA       \n",
              "81 Tion Medon            masculine\n",
              "82 Finn                  masculine\n",
              "83 Rey                   feminine \n",
              "84 Poe Dameron           masculine\n",
              "85 BB8                   masculine\n",
              "86 Captain Phasma        NA       \n",
              "87 Padmé Amidala         feminine "
            ]
          },
          "metadata": {}
        },
        {
          "output_type": "display_data",
          "data": {
            "text/html": [
              "<table class=\"dataframe\">\n",
              "<caption>A tibble: 87 × 3</caption>\n",
              "<thead>\n",
              "\t<tr><th scope=col>name</th><th scope=col>gender</th><th scope=col>gender_coded</th></tr>\n",
              "\t<tr><th scope=col>&lt;chr&gt;</th><th scope=col>&lt;fct&gt;</th><th scope=col>&lt;dbl&gt;</th></tr>\n",
              "</thead>\n",
              "<tbody>\n",
              "\t<tr><td>Luke Skywalker       </td><td>masculine</td><td>1</td></tr>\n",
              "\t<tr><td>C-3PO                </td><td>masculine</td><td>1</td></tr>\n",
              "\t<tr><td>R2-D2                </td><td>masculine</td><td>1</td></tr>\n",
              "\t<tr><td>Darth Vader          </td><td>masculine</td><td>1</td></tr>\n",
              "\t<tr><td>Leia Organa          </td><td>feminine </td><td>2</td></tr>\n",
              "\t<tr><td>Owen Lars            </td><td>masculine</td><td>1</td></tr>\n",
              "\t<tr><td>Beru Whitesun lars   </td><td>feminine </td><td>2</td></tr>\n",
              "\t<tr><td>R5-D4                </td><td>masculine</td><td>1</td></tr>\n",
              "\t<tr><td>Biggs Darklighter    </td><td>masculine</td><td>1</td></tr>\n",
              "\t<tr><td>Obi-Wan Kenobi       </td><td>masculine</td><td>1</td></tr>\n",
              "\t<tr><td>Anakin Skywalker     </td><td>masculine</td><td>1</td></tr>\n",
              "\t<tr><td>Wilhuff Tarkin       </td><td>masculine</td><td>1</td></tr>\n",
              "\t<tr><td>Chewbacca            </td><td>masculine</td><td>1</td></tr>\n",
              "\t<tr><td>Han Solo             </td><td>masculine</td><td>1</td></tr>\n",
              "\t<tr><td>Greedo               </td><td>masculine</td><td>1</td></tr>\n",
              "\t<tr><td>Jabba Desilijic Tiure</td><td>masculine</td><td>1</td></tr>\n",
              "\t<tr><td>Wedge Antilles       </td><td>masculine</td><td>1</td></tr>\n",
              "\t<tr><td>Jek Tono Porkins     </td><td>masculine</td><td>1</td></tr>\n",
              "\t<tr><td>Yoda                 </td><td>masculine</td><td>1</td></tr>\n",
              "\t<tr><td>Palpatine            </td><td>masculine</td><td>1</td></tr>\n",
              "\t<tr><td>Boba Fett            </td><td>masculine</td><td>1</td></tr>\n",
              "\t<tr><td>IG-88                </td><td>masculine</td><td>1</td></tr>\n",
              "\t<tr><td>Bossk                </td><td>masculine</td><td>1</td></tr>\n",
              "\t<tr><td>Lando Calrissian     </td><td>masculine</td><td>1</td></tr>\n",
              "\t<tr><td>Lobot                </td><td>masculine</td><td>1</td></tr>\n",
              "\t<tr><td>Ackbar               </td><td>masculine</td><td>1</td></tr>\n",
              "\t<tr><td>Mon Mothma           </td><td>feminine </td><td>2</td></tr>\n",
              "\t<tr><td>Arvel Crynyd         </td><td>masculine</td><td>1</td></tr>\n",
              "\t<tr><td>Wicket Systri Warrick</td><td>masculine</td><td>1</td></tr>\n",
              "\t<tr><td>Nien Nunb            </td><td>masculine</td><td>1</td></tr>\n",
              "\t<tr><td>⋮</td><td>⋮</td><td>⋮</td></tr>\n",
              "\t<tr><td>Cordé              </td><td>feminine </td><td> 2</td></tr>\n",
              "\t<tr><td>Cliegg Lars        </td><td>masculine</td><td> 1</td></tr>\n",
              "\t<tr><td>Poggle the Lesser  </td><td>masculine</td><td> 1</td></tr>\n",
              "\t<tr><td>Luminara Unduli    </td><td>feminine </td><td> 2</td></tr>\n",
              "\t<tr><td>Barriss Offee      </td><td>feminine </td><td> 2</td></tr>\n",
              "\t<tr><td>Dormé              </td><td>feminine </td><td> 2</td></tr>\n",
              "\t<tr><td>Dooku              </td><td>masculine</td><td> 1</td></tr>\n",
              "\t<tr><td>Bail Prestor Organa</td><td>masculine</td><td> 1</td></tr>\n",
              "\t<tr><td>Jango Fett         </td><td>masculine</td><td> 1</td></tr>\n",
              "\t<tr><td>Zam Wesell         </td><td>feminine </td><td> 2</td></tr>\n",
              "\t<tr><td>Dexter Jettster    </td><td>masculine</td><td> 1</td></tr>\n",
              "\t<tr><td>Lama Su            </td><td>masculine</td><td> 1</td></tr>\n",
              "\t<tr><td>Taun We            </td><td>feminine </td><td> 2</td></tr>\n",
              "\t<tr><td>Jocasta Nu         </td><td>feminine </td><td> 2</td></tr>\n",
              "\t<tr><td>Ratts Tyerell      </td><td>masculine</td><td> 1</td></tr>\n",
              "\t<tr><td>R4-P17             </td><td>feminine </td><td> 2</td></tr>\n",
              "\t<tr><td>Wat Tambor         </td><td>masculine</td><td> 1</td></tr>\n",
              "\t<tr><td>San Hill           </td><td>masculine</td><td> 1</td></tr>\n",
              "\t<tr><td>Shaak Ti           </td><td>feminine </td><td> 2</td></tr>\n",
              "\t<tr><td>Grievous           </td><td>masculine</td><td> 1</td></tr>\n",
              "\t<tr><td>Tarfful            </td><td>masculine</td><td> 1</td></tr>\n",
              "\t<tr><td>Raymus Antilles    </td><td>masculine</td><td> 1</td></tr>\n",
              "\t<tr><td>Sly Moore          </td><td>NA       </td><td>NA</td></tr>\n",
              "\t<tr><td>Tion Medon         </td><td>masculine</td><td> 1</td></tr>\n",
              "\t<tr><td>Finn               </td><td>masculine</td><td> 1</td></tr>\n",
              "\t<tr><td>Rey                </td><td>feminine </td><td> 2</td></tr>\n",
              "\t<tr><td>Poe Dameron        </td><td>masculine</td><td> 1</td></tr>\n",
              "\t<tr><td>BB8                </td><td>masculine</td><td> 1</td></tr>\n",
              "\t<tr><td>Captain Phasma     </td><td>NA       </td><td>NA</td></tr>\n",
              "\t<tr><td>Padmé Amidala      </td><td>feminine </td><td> 2</td></tr>\n",
              "</tbody>\n",
              "</table>\n"
            ],
            "text/markdown": "\nA tibble: 87 × 3\n\n| name &lt;chr&gt; | gender &lt;fct&gt; | gender_coded &lt;dbl&gt; |\n|---|---|---|\n| Luke Skywalker        | masculine | 1 |\n| C-3PO                 | masculine | 1 |\n| R2-D2                 | masculine | 1 |\n| Darth Vader           | masculine | 1 |\n| Leia Organa           | feminine  | 2 |\n| Owen Lars             | masculine | 1 |\n| Beru Whitesun lars    | feminine  | 2 |\n| R5-D4                 | masculine | 1 |\n| Biggs Darklighter     | masculine | 1 |\n| Obi-Wan Kenobi        | masculine | 1 |\n| Anakin Skywalker      | masculine | 1 |\n| Wilhuff Tarkin        | masculine | 1 |\n| Chewbacca             | masculine | 1 |\n| Han Solo              | masculine | 1 |\n| Greedo                | masculine | 1 |\n| Jabba Desilijic Tiure | masculine | 1 |\n| Wedge Antilles        | masculine | 1 |\n| Jek Tono Porkins      | masculine | 1 |\n| Yoda                  | masculine | 1 |\n| Palpatine             | masculine | 1 |\n| Boba Fett             | masculine | 1 |\n| IG-88                 | masculine | 1 |\n| Bossk                 | masculine | 1 |\n| Lando Calrissian      | masculine | 1 |\n| Lobot                 | masculine | 1 |\n| Ackbar                | masculine | 1 |\n| Mon Mothma            | feminine  | 2 |\n| Arvel Crynyd          | masculine | 1 |\n| Wicket Systri Warrick | masculine | 1 |\n| Nien Nunb             | masculine | 1 |\n| ⋮ | ⋮ | ⋮ |\n| Cordé               | feminine  |  2 |\n| Cliegg Lars         | masculine |  1 |\n| Poggle the Lesser   | masculine |  1 |\n| Luminara Unduli     | feminine  |  2 |\n| Barriss Offee       | feminine  |  2 |\n| Dormé               | feminine  |  2 |\n| Dooku               | masculine |  1 |\n| Bail Prestor Organa | masculine |  1 |\n| Jango Fett          | masculine |  1 |\n| Zam Wesell          | feminine  |  2 |\n| Dexter Jettster     | masculine |  1 |\n| Lama Su             | masculine |  1 |\n| Taun We             | feminine  |  2 |\n| Jocasta Nu          | feminine  |  2 |\n| Ratts Tyerell       | masculine |  1 |\n| R4-P17              | feminine  |  2 |\n| Wat Tambor          | masculine |  1 |\n| San Hill            | masculine |  1 |\n| Shaak Ti            | feminine  |  2 |\n| Grievous            | masculine |  1 |\n| Tarfful             | masculine |  1 |\n| Raymus Antilles     | masculine |  1 |\n| Sly Moore           | NA        | NA |\n| Tion Medon          | masculine |  1 |\n| Finn                | masculine |  1 |\n| Rey                 | feminine  |  2 |\n| Poe Dameron         | masculine |  1 |\n| BB8                 | masculine |  1 |\n| Captain Phasma      | NA        | NA |\n| Padmé Amidala       | feminine  |  2 |\n\n",
            "text/latex": "A tibble: 87 × 3\n\\begin{tabular}{lll}\n name & gender & gender\\_coded\\\\\n <chr> & <fct> & <dbl>\\\\\n\\hline\n\t Luke Skywalker        & masculine & 1\\\\\n\t C-3PO                 & masculine & 1\\\\\n\t R2-D2                 & masculine & 1\\\\\n\t Darth Vader           & masculine & 1\\\\\n\t Leia Organa           & feminine  & 2\\\\\n\t Owen Lars             & masculine & 1\\\\\n\t Beru Whitesun lars    & feminine  & 2\\\\\n\t R5-D4                 & masculine & 1\\\\\n\t Biggs Darklighter     & masculine & 1\\\\\n\t Obi-Wan Kenobi        & masculine & 1\\\\\n\t Anakin Skywalker      & masculine & 1\\\\\n\t Wilhuff Tarkin        & masculine & 1\\\\\n\t Chewbacca             & masculine & 1\\\\\n\t Han Solo              & masculine & 1\\\\\n\t Greedo                & masculine & 1\\\\\n\t Jabba Desilijic Tiure & masculine & 1\\\\\n\t Wedge Antilles        & masculine & 1\\\\\n\t Jek Tono Porkins      & masculine & 1\\\\\n\t Yoda                  & masculine & 1\\\\\n\t Palpatine             & masculine & 1\\\\\n\t Boba Fett             & masculine & 1\\\\\n\t IG-88                 & masculine & 1\\\\\n\t Bossk                 & masculine & 1\\\\\n\t Lando Calrissian      & masculine & 1\\\\\n\t Lobot                 & masculine & 1\\\\\n\t Ackbar                & masculine & 1\\\\\n\t Mon Mothma            & feminine  & 2\\\\\n\t Arvel Crynyd          & masculine & 1\\\\\n\t Wicket Systri Warrick & masculine & 1\\\\\n\t Nien Nunb             & masculine & 1\\\\\n\t ⋮ & ⋮ & ⋮\\\\\n\t Cordé               & feminine  &  2\\\\\n\t Cliegg Lars         & masculine &  1\\\\\n\t Poggle the Lesser   & masculine &  1\\\\\n\t Luminara Unduli     & feminine  &  2\\\\\n\t Barriss Offee       & feminine  &  2\\\\\n\t Dormé               & feminine  &  2\\\\\n\t Dooku               & masculine &  1\\\\\n\t Bail Prestor Organa & masculine &  1\\\\\n\t Jango Fett          & masculine &  1\\\\\n\t Zam Wesell          & feminine  &  2\\\\\n\t Dexter Jettster     & masculine &  1\\\\\n\t Lama Su             & masculine &  1\\\\\n\t Taun We             & feminine  &  2\\\\\n\t Jocasta Nu          & feminine  &  2\\\\\n\t Ratts Tyerell       & masculine &  1\\\\\n\t R4-P17              & feminine  &  2\\\\\n\t Wat Tambor          & masculine &  1\\\\\n\t San Hill            & masculine &  1\\\\\n\t Shaak Ti            & feminine  &  2\\\\\n\t Grievous            & masculine &  1\\\\\n\t Tarfful             & masculine &  1\\\\\n\t Raymus Antilles     & masculine &  1\\\\\n\t Sly Moore           & NA        & NA\\\\\n\t Tion Medon          & masculine &  1\\\\\n\t Finn                & masculine &  1\\\\\n\t Rey                 & feminine  &  2\\\\\n\t Poe Dameron         & masculine &  1\\\\\n\t BB8                 & masculine &  1\\\\\n\t Captain Phasma      & NA        & NA\\\\\n\t Padmé Amidala       & feminine  &  2\\\\\n\\end{tabular}\n",
            "text/plain": [
              "   name                  gender    gender_coded\n",
              "1  Luke Skywalker        masculine 1           \n",
              "2  C-3PO                 masculine 1           \n",
              "3  R2-D2                 masculine 1           \n",
              "4  Darth Vader           masculine 1           \n",
              "5  Leia Organa           feminine  2           \n",
              "6  Owen Lars             masculine 1           \n",
              "7  Beru Whitesun lars    feminine  2           \n",
              "8  R5-D4                 masculine 1           \n",
              "9  Biggs Darklighter     masculine 1           \n",
              "10 Obi-Wan Kenobi        masculine 1           \n",
              "11 Anakin Skywalker      masculine 1           \n",
              "12 Wilhuff Tarkin        masculine 1           \n",
              "13 Chewbacca             masculine 1           \n",
              "14 Han Solo              masculine 1           \n",
              "15 Greedo                masculine 1           \n",
              "16 Jabba Desilijic Tiure masculine 1           \n",
              "17 Wedge Antilles        masculine 1           \n",
              "18 Jek Tono Porkins      masculine 1           \n",
              "19 Yoda                  masculine 1           \n",
              "20 Palpatine             masculine 1           \n",
              "21 Boba Fett             masculine 1           \n",
              "22 IG-88                 masculine 1           \n",
              "23 Bossk                 masculine 1           \n",
              "24 Lando Calrissian      masculine 1           \n",
              "25 Lobot                 masculine 1           \n",
              "26 Ackbar                masculine 1           \n",
              "27 Mon Mothma            feminine  2           \n",
              "28 Arvel Crynyd          masculine 1           \n",
              "29 Wicket Systri Warrick masculine 1           \n",
              "30 Nien Nunb             masculine 1           \n",
              "⋮  ⋮                     ⋮         ⋮           \n",
              "58 Cordé                 feminine   2          \n",
              "59 Cliegg Lars           masculine  1          \n",
              "60 Poggle the Lesser     masculine  1          \n",
              "61 Luminara Unduli       feminine   2          \n",
              "62 Barriss Offee         feminine   2          \n",
              "63 Dormé                 feminine   2          \n",
              "64 Dooku                 masculine  1          \n",
              "65 Bail Prestor Organa   masculine  1          \n",
              "66 Jango Fett            masculine  1          \n",
              "67 Zam Wesell            feminine   2          \n",
              "68 Dexter Jettster       masculine  1          \n",
              "69 Lama Su               masculine  1          \n",
              "70 Taun We               feminine   2          \n",
              "71 Jocasta Nu            feminine   2          \n",
              "72 Ratts Tyerell         masculine  1          \n",
              "73 R4-P17                feminine   2          \n",
              "74 Wat Tambor            masculine  1          \n",
              "75 San Hill              masculine  1          \n",
              "76 Shaak Ti              feminine   2          \n",
              "77 Grievous              masculine  1          \n",
              "78 Tarfful               masculine  1          \n",
              "79 Raymus Antilles       masculine  1          \n",
              "80 Sly Moore             NA        NA          \n",
              "81 Tion Medon            masculine  1          \n",
              "82 Finn                  masculine  1          \n",
              "83 Rey                   feminine   2          \n",
              "84 Poe Dameron           masculine  1          \n",
              "85 BB8                   masculine  1          \n",
              "86 Captain Phasma        NA        NA          \n",
              "87 Padmé Amidala         feminine   2          "
            ]
          },
          "metadata": {}
        }
      ]
    },
    {
      "cell_type": "code",
      "source": [],
      "metadata": {
        "id": "6H62zWgIzwux"
      },
      "execution_count": null,
      "outputs": []
    }
  ]
}
