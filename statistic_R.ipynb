{
 "cells": [
  {
   "cell_type": "markdown",
   "id": "47993762-0327-446f-ab4c-34aa47ab6075",
   "metadata": {},
   "source": [
    "Farnoosh Azour\n",
    "\n",
    "I am trying to explain each and every step within the commands to come up with a tutorial!"
   ]
  },
  {
   "cell_type": "markdown",
   "id": "430ea85b-f1f1-40ee-88d2-5fb11bc024d5",
   "metadata": {},
   "source": [
    "The iris dataset contains measurements of the sepal length, sepal width, petal length, and petal width of 150 iris flowers, with 50 flowers from each of three different species. The dataset is commonly used for exploring data analysis and visualization techniques in R."
   ]
  },
  {
   "cell_type": "markdown",
   "id": "6024d0c5-740d-447a-b6bc-5cddc34be23a",
   "metadata": {},
   "source": [
    "### library(datasets) in R\n",
    "The command \"library(datasets)\" in R loads the \"datasets\" package into the R environment, which provides a number of built-in datasets that can be used for learning and practicing data analysis techniques. "
   ]
  },
  {
   "cell_type": "code",
   "execution_count": null,
   "id": "c850e023-cbd2-4583-9061-bff5a42af2f0",
   "metadata": {},
   "outputs": [],
   "source": [
    "library(datasets)\n",
    "data(iris)"
   ]
  },
  {
   "cell_type": "code",
   "execution_count": null,
   "id": "69e15647-c759-470e-9e5f-8b5adbf3e7fa",
   "metadata": {},
   "outputs": [],
   "source": [
    "iris <- datasets::iris"
   ]
  },
  {
   "cell_type": "code",
   "execution_count": null,
   "id": "1bb98275-74bf-41df-8575-4359ac42c9f4",
   "metadata": {},
   "outputs": [],
   "source": [
    "# displaying the first 4 rows of the \"iris\" dataset. \n",
    "head(iris, 4) "
   ]
  },
  {
   "cell_type": "code",
   "execution_count": null,
   "id": "0a698c1d-e0da-4c33-b2c7-9435a403e4ce",
   "metadata": {},
   "outputs": [],
   "source": [
    "tail(iris, 4)"
   ]
  },
  {
   "cell_type": "markdown",
   "id": "1f29e1d3-1875-4c93-8fcc-39c919dc9d63",
   "metadata": {},
   "source": [
    "The command \"summary(iris)\" in R provides a summary of the \"iris\" dataset. For each variable, the summary includes the minimum, 1st quartile, median, mean, 3rd quartile, and maximum values, as well as the number of missing values. This summary can be useful for getting a quick understanding of the distribution and range of the data in the dataset. "
   ]
  },
  {
   "cell_type": "code",
   "execution_count": null,
   "id": "d972c341-9dac-44f9-9159-9ecc489f94f0",
   "metadata": {},
   "outputs": [],
   "source": [
    "summary(iris)"
   ]
  },
  {
   "cell_type": "markdown",
   "id": "84beec7a-811d-4ad0-8e27-e0f98aba24b8",
   "metadata": {},
   "source": [
    "The \"$\" operator is used to access a specific variable within a data frame. In this case, \"iris\" is the data frame, and \"Sepal.Length\" is the name of one of the variables in the data frame that contains the measurements of the sepal length for each of the 150 iris flowers."
   ]
  },
  {
   "cell_type": "code",
   "execution_count": null,
   "id": "f688d0a8-ec04-4176-873f-8c20ca4d226f",
   "metadata": {},
   "outputs": [],
   "source": [
    "summary(iris$Sepal.Length)"
   ]
  },
  {
   "cell_type": "code",
   "execution_count": null,
   "id": "915cad89-4d20-435b-ad8c-70ebbf6da46c",
   "metadata": {},
   "outputs": [],
   "source": [
    "summary(iris$Species)"
   ]
  },
  {
   "cell_type": "markdown",
   "id": "a65039a1-7623-46d6-9f17-a77cdc6e3ae1",
   "metadata": {},
   "source": [
    "The \"is.na()\" function is used to check for missing or \"NA\" values in a dataset, and returns a logical vector of \"TRUE\" and \"FALSE\" values indicating which values are missing. The \"sum()\" function is then used to add up the number of \"TRUE\" values, which correspond to missing values. In this case, since the \"iris\" dataset has no missing values, the result will be 0."
   ]
  },
  {
   "cell_type": "code",
   "execution_count": null,
   "id": "f97408be-d606-4a74-989b-c2542f98e193",
   "metadata": {},
   "outputs": [],
   "source": [
    "sum(is.na(iris))"
   ]
  },
  {
   "cell_type": "code",
   "execution_count": null,
   "id": "d3df8418-5884-4167-9247-2412b27365fe",
   "metadata": {},
   "outputs": [],
   "source": []
  }
 ],
 "metadata": {
  "kernelspec": {
   "display_name": "R",
   "language": "R",
   "name": "ir"
  },
  "language_info": {
   "codemirror_mode": "r",
   "file_extension": ".r",
   "mimetype": "text/x-r-source",
   "name": "R",
   "pygments_lexer": "r",
   "version": "3.6.0"
  }
 },
 "nbformat": 4,
 "nbformat_minor": 5
}
